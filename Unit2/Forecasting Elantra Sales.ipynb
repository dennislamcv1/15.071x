{
 "cells": [
  {
   "cell_type": "code",
   "execution_count": 1,
   "metadata": {},
   "outputs": [],
   "source": [
    "Elantra = read.csv(\"elantra.csv\") "
   ]
  },
  {
   "cell_type": "code",
   "execution_count": 2,
   "metadata": {},
   "outputs": [],
   "source": [
    "ElantraTrain = subset(Elantra, Year <= 2012)\n",
    "\n",
    "ElantraTest = subset(Elantra, Year > 2012) "
   ]
  },
  {
   "cell_type": "code",
   "execution_count": 3,
   "metadata": {},
   "outputs": [
    {
     "name": "stdout",
     "output_type": "stream",
     "text": [
      "'data.frame':\t36 obs. of  7 variables:\n",
      " $ Month       : int  1 1 1 2 2 2 3 3 3 4 ...\n",
      " $ Year        : int  2010 2011 2012 2010 2011 2012 2010 2011 2012 2010 ...\n",
      " $ ElantraSales: int  7690 9659 10900 7966 12289 13820 8225 19255 19681 9657 ...\n",
      " $ Unemployment: num  9.7 9.1 8.2 9.8 9 8.3 9.9 9 8.2 9.9 ...\n",
      " $ Queries     : int  153 259 354 130 266 296 138 281 303 132 ...\n",
      " $ CPI_energy  : num  213 229 244 210 232 ...\n",
      " $ CPI_all     : num  217 221 228 217 222 ...\n"
     ]
    }
   ],
   "source": [
    "str(ElantraTrain)"
   ]
  },
  {
   "cell_type": "code",
   "execution_count": 4,
   "metadata": {},
   "outputs": [],
   "source": [
    "ElantraLM = lm(ElantraSales ~ Unemployment + Queries + CPI_energy + CPI_all, data=ElantraTrain)"
   ]
  },
  {
   "cell_type": "code",
   "execution_count": 5,
   "metadata": {},
   "outputs": [
    {
     "data": {
      "text/plain": [
       "\n",
       "Call:\n",
       "lm(formula = ElantraSales ~ Unemployment + Queries + CPI_energy + \n",
       "    CPI_all, data = ElantraTrain)\n",
       "\n",
       "Residuals:\n",
       "    Min      1Q  Median      3Q     Max \n",
       "-6785.2 -2101.8  -562.5  2901.7  7021.0 \n",
       "\n",
       "Coefficients:\n",
       "              Estimate Std. Error t value Pr(>|t|)\n",
       "(Intercept)   95385.36  170663.81   0.559    0.580\n",
       "Unemployment  -3179.90    3610.26  -0.881    0.385\n",
       "Queries          19.03      11.26   1.690    0.101\n",
       "CPI_energy       38.51     109.60   0.351    0.728\n",
       "CPI_all        -297.65     704.84  -0.422    0.676\n",
       "\n",
       "Residual standard error: 3295 on 31 degrees of freedom\n",
       "Multiple R-squared:  0.4282,\tAdjusted R-squared:  0.3544 \n",
       "F-statistic: 5.803 on 4 and 31 DF,  p-value: 0.00132\n"
      ]
     },
     "metadata": {},
     "output_type": "display_data"
    }
   ],
   "source": [
    "summary(ElantraLM)"
   ]
  },
  {
   "cell_type": "code",
   "execution_count": 6,
   "metadata": {},
   "outputs": [],
   "source": [
    "ElantraLM = lm(ElantraSales ~ Unemployment + Queries + CPI_energy + CPI_all + Month, data=ElantraTrain)"
   ]
  },
  {
   "cell_type": "code",
   "execution_count": 7,
   "metadata": {},
   "outputs": [
    {
     "data": {
      "text/plain": [
       "\n",
       "Call:\n",
       "lm(formula = ElantraSales ~ Unemployment + Queries + CPI_energy + \n",
       "    CPI_all + Month, data = ElantraTrain)\n",
       "\n",
       "Residuals:\n",
       "    Min      1Q  Median      3Q     Max \n",
       "-6416.6 -2068.7  -597.1  2616.3  7183.2 \n",
       "\n",
       "Coefficients:\n",
       "              Estimate Std. Error t value Pr(>|t|)  \n",
       "(Intercept)  148330.49  195373.51   0.759   0.4536  \n",
       "Unemployment  -4137.28    4008.56  -1.032   0.3103  \n",
       "Queries          21.19      11.98   1.769   0.0871 .\n",
       "CPI_energy       54.18     114.08   0.475   0.6382  \n",
       "CPI_all        -517.99     808.26  -0.641   0.5265  \n",
       "Month           110.69     191.66   0.578   0.5679  \n",
       "---\n",
       "Signif. codes:  0 '***' 0.001 '**' 0.01 '*' 0.05 '.' 0.1 ' ' 1\n",
       "\n",
       "Residual standard error: 3331 on 30 degrees of freedom\n",
       "Multiple R-squared:  0.4344,\tAdjusted R-squared:  0.3402 \n",
       "F-statistic: 4.609 on 5 and 30 DF,  p-value: 0.003078\n"
      ]
     },
     "metadata": {},
     "output_type": "display_data"
    }
   ],
   "source": [
    "summary(ElantraLM)"
   ]
  },
  {
   "cell_type": "code",
   "execution_count": 8,
   "metadata": {},
   "outputs": [
    {
     "data": {
      "text/html": [
       "221.38"
      ],
      "text/latex": [
       "221.38"
      ],
      "text/markdown": [
       "221.38"
      ],
      "text/plain": [
       "[1] 221.38"
      ]
     },
     "metadata": {},
     "output_type": "display_data"
    }
   ],
   "source": [
    "110.69 * (3 - 1)"
   ]
  },
  {
   "cell_type": "code",
   "execution_count": 10,
   "metadata": {},
   "outputs": [
    {
     "data": {
      "text/html": [
       "442.76"
      ],
      "text/latex": [
       "442.76"
      ],
      "text/markdown": [
       "442.76"
      ],
      "text/plain": [
       "[1] 442.76"
      ]
     },
     "metadata": {},
     "output_type": "display_data"
    }
   ],
   "source": [
    "110.69 * (5 - 1)"
   ]
  },
  {
   "cell_type": "code",
   "execution_count": 11,
   "metadata": {},
   "outputs": [],
   "source": [
    "ElantraTrain$MonthFactor = as.factor(ElantraTrain$Month)\n",
    "\n",
    "ElantraTest$MonthFactor = as.factor(ElantraTest$Month)"
   ]
  },
  {
   "cell_type": "code",
   "execution_count": 12,
   "metadata": {},
   "outputs": [],
   "source": [
    "ElantraLM = lm(ElantraSales ~ Unemployment + Queries + CPI_energy + CPI_all + MonthFactor, data=ElantraTrain)"
   ]
  },
  {
   "cell_type": "code",
   "execution_count": 13,
   "metadata": {},
   "outputs": [
    {
     "data": {
      "text/plain": [
       "\n",
       "Call:\n",
       "lm(formula = ElantraSales ~ Unemployment + Queries + CPI_energy + \n",
       "    CPI_all + MonthFactor, data = ElantraTrain)\n",
       "\n",
       "Residuals:\n",
       "    Min      1Q  Median      3Q     Max \n",
       "-3865.1 -1211.7   -77.1  1207.5  3562.2 \n",
       "\n",
       "Coefficients:\n",
       "                Estimate Std. Error t value Pr(>|t|)    \n",
       "(Intercept)   312509.280 144061.867   2.169 0.042288 *  \n",
       "Unemployment   -7739.381   2968.747  -2.607 0.016871 *  \n",
       "Queries           -4.764     12.938  -0.368 0.716598    \n",
       "CPI_energy       288.631     97.974   2.946 0.007988 ** \n",
       "CPI_all        -1343.307    592.919  -2.266 0.034732 *  \n",
       "MonthFactor2    2254.998   1943.249   1.160 0.259540    \n",
       "MonthFactor3    6696.557   1991.635   3.362 0.003099 ** \n",
       "MonthFactor4    7556.607   2038.022   3.708 0.001392 ** \n",
       "MonthFactor5    7420.249   1950.139   3.805 0.001110 ** \n",
       "MonthFactor6    9215.833   1995.230   4.619 0.000166 ***\n",
       "MonthFactor7    9929.464   2238.800   4.435 0.000254 ***\n",
       "MonthFactor8    7939.447   2064.629   3.845 0.001010 ** \n",
       "MonthFactor9    5013.287   2010.745   2.493 0.021542 *  \n",
       "MonthFactor10   2500.184   2084.057   1.200 0.244286    \n",
       "MonthFactor11   3238.932   2397.231   1.351 0.191747    \n",
       "MonthFactor12   5293.911   2228.310   2.376 0.027621 *  \n",
       "---\n",
       "Signif. codes:  0 '***' 0.001 '**' 0.01 '*' 0.05 '.' 0.1 ' ' 1\n",
       "\n",
       "Residual standard error: 2306 on 20 degrees of freedom\n",
       "Multiple R-squared:  0.8193,\tAdjusted R-squared:  0.6837 \n",
       "F-statistic: 6.044 on 15 and 20 DF,  p-value: 0.0001469\n"
      ]
     },
     "metadata": {},
     "output_type": "display_data"
    }
   ],
   "source": [
    "summary(ElantraLM)"
   ]
  },
  {
   "cell_type": "code",
   "execution_count": 14,
   "metadata": {},
   "outputs": [
    {
     "data": {
      "text/html": [
       "<table>\n",
       "<caption>A matrix: 5 × 5 of type dbl</caption>\n",
       "<thead>\n",
       "\t<tr><th></th><th scope=col>Unemployment</th><th scope=col>Month</th><th scope=col>Queries</th><th scope=col>CPI_energy</th><th scope=col>CPI_all</th></tr>\n",
       "</thead>\n",
       "<tbody>\n",
       "\t<tr><th scope=row>Unemployment</th><td> 1.0000000</td><td>-0.2036029</td><td>-0.6411093</td><td>-0.8007188</td><td>-0.9562123</td></tr>\n",
       "\t<tr><th scope=row>Month</th><td>-0.2036029</td><td> 1.0000000</td><td> 0.0158443</td><td> 0.1760198</td><td> 0.2667883</td></tr>\n",
       "\t<tr><th scope=row>Queries</th><td>-0.6411093</td><td> 0.0158443</td><td> 1.0000000</td><td> 0.8328381</td><td> 0.7536732</td></tr>\n",
       "\t<tr><th scope=row>CPI_energy</th><td>-0.8007188</td><td> 0.1760198</td><td> 0.8328381</td><td> 1.0000000</td><td> 0.9132259</td></tr>\n",
       "\t<tr><th scope=row>CPI_all</th><td>-0.9562123</td><td> 0.2667883</td><td> 0.7536732</td><td> 0.9132259</td><td> 1.0000000</td></tr>\n",
       "</tbody>\n",
       "</table>\n"
      ],
      "text/latex": [
       "A matrix: 5 × 5 of type dbl\n",
       "\\begin{tabular}{r|lllll}\n",
       "  & Unemployment & Month & Queries & CPI\\_energy & CPI\\_all\\\\\n",
       "\\hline\n",
       "\tUnemployment &  1.0000000 & -0.2036029 & -0.6411093 & -0.8007188 & -0.9562123\\\\\n",
       "\tMonth & -0.2036029 &  1.0000000 &  0.0158443 &  0.1760198 &  0.2667883\\\\\n",
       "\tQueries & -0.6411093 &  0.0158443 &  1.0000000 &  0.8328381 &  0.7536732\\\\\n",
       "\tCPI\\_energy & -0.8007188 &  0.1760198 &  0.8328381 &  1.0000000 &  0.9132259\\\\\n",
       "\tCPI\\_all & -0.9562123 &  0.2667883 &  0.7536732 &  0.9132259 &  1.0000000\\\\\n",
       "\\end{tabular}\n"
      ],
      "text/markdown": [
       "\n",
       "A matrix: 5 × 5 of type dbl\n",
       "\n",
       "| <!--/--> | Unemployment | Month | Queries | CPI_energy | CPI_all |\n",
       "|---|---|---|---|---|---|\n",
       "| Unemployment |  1.0000000 | -0.2036029 | -0.6411093 | -0.8007188 | -0.9562123 |\n",
       "| Month | -0.2036029 |  1.0000000 |  0.0158443 |  0.1760198 |  0.2667883 |\n",
       "| Queries | -0.6411093 |  0.0158443 |  1.0000000 |  0.8328381 |  0.7536732 |\n",
       "| CPI_energy | -0.8007188 |  0.1760198 |  0.8328381 |  1.0000000 |  0.9132259 |\n",
       "| CPI_all | -0.9562123 |  0.2667883 |  0.7536732 |  0.9132259 |  1.0000000 |\n",
       "\n"
      ],
      "text/plain": [
       "             Unemployment Month      Queries    CPI_energy CPI_all   \n",
       "Unemployment  1.0000000   -0.2036029 -0.6411093 -0.8007188 -0.9562123\n",
       "Month        -0.2036029    1.0000000  0.0158443  0.1760198  0.2667883\n",
       "Queries      -0.6411093    0.0158443  1.0000000  0.8328381  0.7536732\n",
       "CPI_energy   -0.8007188    0.1760198  0.8328381  1.0000000  0.9132259\n",
       "CPI_all      -0.9562123    0.2667883  0.7536732  0.9132259  1.0000000"
      ]
     },
     "metadata": {},
     "output_type": "display_data"
    }
   ],
   "source": [
    "cor(ElantraTrain[c(\"Unemployment\",\"Month\",\"Queries\",\"CPI_energy\",\"CPI_all\")])"
   ]
  },
  {
   "cell_type": "code",
   "execution_count": 15,
   "metadata": {},
   "outputs": [
    {
     "data": {
      "text/html": [
       "<table>\n",
       "<caption>A matrix: 5 × 5 of type dbl</caption>\n",
       "<thead>\n",
       "\t<tr><th></th><th scope=col>Unemployment</th><th scope=col>Month</th><th scope=col>Queries</th><th scope=col>CPI_energy</th><th scope=col>CPI_all</th></tr>\n",
       "</thead>\n",
       "<tbody>\n",
       "\t<tr><th scope=row>Unemployment</th><td> 1.0000000</td><td>-0.2036029</td><td>-0.6411093</td><td>-0.8007188</td><td>-0.9562123</td></tr>\n",
       "\t<tr><th scope=row>Month</th><td>-0.2036029</td><td> 1.0000000</td><td> 0.0158443</td><td> 0.1760198</td><td> 0.2667883</td></tr>\n",
       "\t<tr><th scope=row>Queries</th><td>-0.6411093</td><td> 0.0158443</td><td> 1.0000000</td><td> 0.8328381</td><td> 0.7536732</td></tr>\n",
       "\t<tr><th scope=row>CPI_energy</th><td>-0.8007188</td><td> 0.1760198</td><td> 0.8328381</td><td> 1.0000000</td><td> 0.9132259</td></tr>\n",
       "\t<tr><th scope=row>CPI_all</th><td>-0.9562123</td><td> 0.2667883</td><td> 0.7536732</td><td> 0.9132259</td><td> 1.0000000</td></tr>\n",
       "</tbody>\n",
       "</table>\n"
      ],
      "text/latex": [
       "A matrix: 5 × 5 of type dbl\n",
       "\\begin{tabular}{r|lllll}\n",
       "  & Unemployment & Month & Queries & CPI\\_energy & CPI\\_all\\\\\n",
       "\\hline\n",
       "\tUnemployment &  1.0000000 & -0.2036029 & -0.6411093 & -0.8007188 & -0.9562123\\\\\n",
       "\tMonth & -0.2036029 &  1.0000000 &  0.0158443 &  0.1760198 &  0.2667883\\\\\n",
       "\tQueries & -0.6411093 &  0.0158443 &  1.0000000 &  0.8328381 &  0.7536732\\\\\n",
       "\tCPI\\_energy & -0.8007188 &  0.1760198 &  0.8328381 &  1.0000000 &  0.9132259\\\\\n",
       "\tCPI\\_all & -0.9562123 &  0.2667883 &  0.7536732 &  0.9132259 &  1.0000000\\\\\n",
       "\\end{tabular}\n"
      ],
      "text/markdown": [
       "\n",
       "A matrix: 5 × 5 of type dbl\n",
       "\n",
       "| <!--/--> | Unemployment | Month | Queries | CPI_energy | CPI_all |\n",
       "|---|---|---|---|---|---|\n",
       "| Unemployment |  1.0000000 | -0.2036029 | -0.6411093 | -0.8007188 | -0.9562123 |\n",
       "| Month | -0.2036029 |  1.0000000 |  0.0158443 |  0.1760198 |  0.2667883 |\n",
       "| Queries | -0.6411093 |  0.0158443 |  1.0000000 |  0.8328381 |  0.7536732 |\n",
       "| CPI_energy | -0.8007188 |  0.1760198 |  0.8328381 |  1.0000000 |  0.9132259 |\n",
       "| CPI_all | -0.9562123 |  0.2667883 |  0.7536732 |  0.9132259 |  1.0000000 |\n",
       "\n"
      ],
      "text/plain": [
       "             Unemployment Month      Queries    CPI_energy CPI_all   \n",
       "Unemployment  1.0000000   -0.2036029 -0.6411093 -0.8007188 -0.9562123\n",
       "Month        -0.2036029    1.0000000  0.0158443  0.1760198  0.2667883\n",
       "Queries      -0.6411093    0.0158443  1.0000000  0.8328381  0.7536732\n",
       "CPI_energy   -0.8007188    0.1760198  0.8328381  1.0000000  0.9132259\n",
       "CPI_all      -0.9562123    0.2667883  0.7536732  0.9132259  1.0000000"
      ]
     },
     "metadata": {},
     "output_type": "display_data"
    }
   ],
   "source": [
    "cor(ElantraTrain[c(\"Unemployment\",\"Month\",\"Queries\",\"CPI_energy\",\"CPI_all\")])"
   ]
  },
  {
   "cell_type": "code",
   "execution_count": 16,
   "metadata": {},
   "outputs": [],
   "source": [
    "PredictTest = predict(ElantraLM, newdata=ElantraTest)"
   ]
  },
  {
   "cell_type": "code",
   "execution_count": 17,
   "metadata": {},
   "outputs": [],
   "source": [
    "SSE = sum((PredictTest - ElantraTest$ElantraSales)^2)"
   ]
  },
  {
   "cell_type": "code",
   "execution_count": 18,
   "metadata": {},
   "outputs": [
    {
     "data": {
      "text/html": [
       "180470729.042986"
      ],
      "text/latex": [
       "180470729.042986"
      ],
      "text/markdown": [
       "180470729.042986"
      ],
      "text/plain": [
       "[1] 180470729"
      ]
     },
     "metadata": {},
     "output_type": "display_data"
    }
   ],
   "source": [
    "SSE"
   ]
  },
  {
   "cell_type": "code",
   "execution_count": 19,
   "metadata": {},
   "outputs": [],
   "source": [
    "SST = sum((mean(ElantraTrain$ElantraSales) - ElantraTest$ElantraSales)^2)"
   ]
  },
  {
   "cell_type": "code",
   "execution_count": 20,
   "metadata": {},
   "outputs": [
    {
     "data": {
      "text/html": [
       "0.742690155183038"
      ],
      "text/latex": [
       "0.742690155183038"
      ],
      "text/markdown": [
       "0.742690155183038"
      ],
      "text/plain": [
       "[1] 0.7426902"
      ]
     },
     "metadata": {},
     "output_type": "display_data"
    }
   ],
   "source": [
    "1-(SSE/SST)"
   ]
  },
  {
   "cell_type": "code",
   "execution_count": 21,
   "metadata": {},
   "outputs": [
    {
     "data": {
      "text/html": [
       "7632.81095320157"
      ],
      "text/latex": [
       "7632.81095320157"
      ],
      "text/markdown": [
       "7632.81095320157"
      ],
      "text/plain": [
       "[1] 7632.811"
      ]
     },
     "metadata": {},
     "output_type": "display_data"
    }
   ],
   "source": [
    "max(abs(PredictTest - ElantraTest$ElantraSales))"
   ]
  },
  {
   "cell_type": "code",
   "execution_count": 22,
   "metadata": {},
   "outputs": [
    {
     "data": {
      "text/html": [
       "<strong>14:</strong> 5"
      ],
      "text/latex": [
       "\\textbf{14:} 5"
      ],
      "text/markdown": [
       "**14:** 5"
      ],
      "text/plain": [
       "14 \n",
       " 5 "
      ]
     },
     "metadata": {},
     "output_type": "display_data"
    }
   ],
   "source": [
    "which.max(abs(PredictTest - ElantraTest$ElantraSales))"
   ]
  },
  {
   "cell_type": "code",
   "execution_count": 23,
   "metadata": {},
   "outputs": [
    {
     "data": {
      "text/html": [
       "<table>\n",
       "<caption>A data.frame: 14 × 1</caption>\n",
       "<thead>\n",
       "\t<tr><th></th><th scope=col>Queries</th></tr>\n",
       "\t<tr><th></th><th scope=col>&lt;int&gt;</th></tr>\n",
       "</thead>\n",
       "<tbody>\n",
       "\t<tr><th scope=row>4</th><td>230</td></tr>\n",
       "\t<tr><th scope=row>5</th><td>232</td></tr>\n",
       "\t<tr><th scope=row>9</th><td>239</td></tr>\n",
       "\t<tr><th scope=row>10</th><td>240</td></tr>\n",
       "\t<tr><th scope=row>14</th><td>313</td></tr>\n",
       "\t<tr><th scope=row>18</th><td>248</td></tr>\n",
       "\t<tr><th scope=row>22</th><td>252</td></tr>\n",
       "\t<tr><th scope=row>26</th><td>320</td></tr>\n",
       "\t<tr><th scope=row>30</th><td>274</td></tr>\n",
       "\t<tr><th scope=row>34</th><td>271</td></tr>\n",
       "\t<tr><th scope=row>38</th><td>298</td></tr>\n",
       "\t<tr><th scope=row>42</th><td>223</td></tr>\n",
       "\t<tr><th scope=row>46</th><td>231</td></tr>\n",
       "\t<tr><th scope=row>50</th><td>279</td></tr>\n",
       "</tbody>\n",
       "</table>\n"
      ],
      "text/latex": [
       "A data.frame: 14 × 1\n",
       "\\begin{tabular}{r|l}\n",
       "  & Queries\\\\\n",
       "  & <int>\\\\\n",
       "\\hline\n",
       "\t4 & 230\\\\\n",
       "\t5 & 232\\\\\n",
       "\t9 & 239\\\\\n",
       "\t10 & 240\\\\\n",
       "\t14 & 313\\\\\n",
       "\t18 & 248\\\\\n",
       "\t22 & 252\\\\\n",
       "\t26 & 320\\\\\n",
       "\t30 & 274\\\\\n",
       "\t34 & 271\\\\\n",
       "\t38 & 298\\\\\n",
       "\t42 & 223\\\\\n",
       "\t46 & 231\\\\\n",
       "\t50 & 279\\\\\n",
       "\\end{tabular}\n"
      ],
      "text/markdown": [
       "\n",
       "A data.frame: 14 × 1\n",
       "\n",
       "| <!--/--> | Queries &lt;int&gt; |\n",
       "|---|---|\n",
       "| 4 | 230 |\n",
       "| 5 | 232 |\n",
       "| 9 | 239 |\n",
       "| 10 | 240 |\n",
       "| 14 | 313 |\n",
       "| 18 | 248 |\n",
       "| 22 | 252 |\n",
       "| 26 | 320 |\n",
       "| 30 | 274 |\n",
       "| 34 | 271 |\n",
       "| 38 | 298 |\n",
       "| 42 | 223 |\n",
       "| 46 | 231 |\n",
       "| 50 | 279 |\n",
       "\n"
      ],
      "text/plain": [
       "   Queries\n",
       "4  230    \n",
       "5  232    \n",
       "9  239    \n",
       "10 240    \n",
       "14 313    \n",
       "18 248    \n",
       "22 252    \n",
       "26 320    \n",
       "30 274    \n",
       "34 271    \n",
       "38 298    \n",
       "42 223    \n",
       "46 231    \n",
       "50 279    "
      ]
     },
     "metadata": {},
     "output_type": "display_data"
    }
   ],
   "source": [
    "ElantraTest[5]"
   ]
  },
  {
   "cell_type": "code",
   "execution_count": null,
   "metadata": {},
   "outputs": [],
   "source": []
  }
 ],
 "metadata": {
  "kernelspec": {
   "display_name": "R",
   "language": "R",
   "name": "ir"
  },
  "language_info": {
   "codemirror_mode": "r",
   "file_extension": ".r",
   "mimetype": "text/x-r-source",
   "name": "R",
   "pygments_lexer": "r",
   "version": "3.6.1"
  }
 },
 "nbformat": 4,
 "nbformat_minor": 2
}
