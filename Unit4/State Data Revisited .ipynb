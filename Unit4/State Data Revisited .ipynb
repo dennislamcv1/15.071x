{
 "cells": [
  {
   "cell_type": "code",
   "execution_count": 1,
   "metadata": {},
   "outputs": [],
   "source": [
    "data(state)\n",
    "statedata = data.frame(state.x77)"
   ]
  },
  {
   "cell_type": "code",
   "execution_count": 2,
   "metadata": {},
   "outputs": [
    {
     "name": "stdout",
     "output_type": "stream",
     "text": [
      "'data.frame':\t50 obs. of  8 variables:\n",
      " $ Population: num  3615 365 2212 2110 21198 ...\n",
      " $ Income    : num  3624 6315 4530 3378 5114 ...\n",
      " $ Illiteracy: num  2.1 1.5 1.8 1.9 1.1 0.7 1.1 0.9 1.3 2 ...\n",
      " $ Life.Exp  : num  69 69.3 70.5 70.7 71.7 ...\n",
      " $ Murder    : num  15.1 11.3 7.8 10.1 10.3 6.8 3.1 6.2 10.7 13.9 ...\n",
      " $ HS.Grad   : num  41.3 66.7 58.1 39.9 62.6 63.9 56 54.6 52.6 40.6 ...\n",
      " $ Frost     : num  20 152 15 65 20 166 139 103 11 60 ...\n",
      " $ Area      : num  50708 566432 113417 51945 156361 ...\n"
     ]
    }
   ],
   "source": [
    "str(statedata)"
   ]
  },
  {
   "cell_type": "code",
   "execution_count": 3,
   "metadata": {},
   "outputs": [],
   "source": [
    "RegModel = lm(Life.Exp ~ ., data=statedata)"
   ]
  },
  {
   "cell_type": "code",
   "execution_count": 5,
   "metadata": {},
   "outputs": [
    {
     "data": {
      "text/plain": [
       "\n",
       "Call:\n",
       "lm(formula = Life.Exp ~ ., data = statedata)\n",
       "\n",
       "Residuals:\n",
       "     Min       1Q   Median       3Q      Max \n",
       "-1.48895 -0.51232 -0.02747  0.57002  1.49447 \n",
       "\n",
       "Coefficients:\n",
       "              Estimate Std. Error t value Pr(>|t|)    \n",
       "(Intercept)  7.094e+01  1.748e+00  40.586  < 2e-16 ***\n",
       "Population   5.180e-05  2.919e-05   1.775   0.0832 .  \n",
       "Income      -2.180e-05  2.444e-04  -0.089   0.9293    \n",
       "Illiteracy   3.382e-02  3.663e-01   0.092   0.9269    \n",
       "Murder      -3.011e-01  4.662e-02  -6.459 8.68e-08 ***\n",
       "HS.Grad      4.893e-02  2.332e-02   2.098   0.0420 *  \n",
       "Frost       -5.735e-03  3.143e-03  -1.825   0.0752 .  \n",
       "Area        -7.383e-08  1.668e-06  -0.044   0.9649    \n",
       "---\n",
       "Signif. codes:  0 '***' 0.001 '**' 0.01 '*' 0.05 '.' 0.1 ' ' 1\n",
       "\n",
       "Residual standard error: 0.7448 on 42 degrees of freedom\n",
       "Multiple R-squared:  0.7362,\tAdjusted R-squared:  0.6922 \n",
       "F-statistic: 16.74 on 7 and 42 DF,  p-value: 2.534e-10\n"
      ]
     },
     "metadata": {},
     "output_type": "display_data"
    }
   ],
   "source": [
    "summary(RegModel)"
   ]
  },
  {
   "cell_type": "code",
   "execution_count": 6,
   "metadata": {},
   "outputs": [],
   "source": [
    "Predictions = predict(RegModel)"
   ]
  },
  {
   "cell_type": "code",
   "execution_count": 7,
   "metadata": {},
   "outputs": [
    {
     "data": {
      "text/html": [
       "23.2971381393001"
      ],
      "text/latex": [
       "23.2971381393001"
      ],
      "text/markdown": [
       "23.2971381393001"
      ],
      "text/plain": [
       "[1] 23.29714"
      ]
     },
     "metadata": {},
     "output_type": "display_data"
    }
   ],
   "source": [
    "sum((statedata$Life.Exp - Predictions)^2)"
   ]
  },
  {
   "cell_type": "code",
   "execution_count": 8,
   "metadata": {},
   "outputs": [],
   "source": [
    "RegModel2 = lm(Life.Exp ~ Population + Murder + Frost + HS.Grad, data=statedata)"
   ]
  },
  {
   "cell_type": "code",
   "execution_count": 9,
   "metadata": {},
   "outputs": [
    {
     "data": {
      "text/plain": [
       "\n",
       "Call:\n",
       "lm(formula = Life.Exp ~ Population + Murder + Frost + HS.Grad, \n",
       "    data = statedata)\n",
       "\n",
       "Residuals:\n",
       "     Min       1Q   Median       3Q      Max \n",
       "-1.47095 -0.53464 -0.03701  0.57621  1.50683 \n",
       "\n",
       "Coefficients:\n",
       "              Estimate Std. Error t value Pr(>|t|)    \n",
       "(Intercept)  7.103e+01  9.529e-01  74.542  < 2e-16 ***\n",
       "Population   5.014e-05  2.512e-05   1.996  0.05201 .  \n",
       "Murder      -3.001e-01  3.661e-02  -8.199 1.77e-10 ***\n",
       "Frost       -5.943e-03  2.421e-03  -2.455  0.01802 *  \n",
       "HS.Grad      4.658e-02  1.483e-02   3.142  0.00297 ** \n",
       "---\n",
       "Signif. codes:  0 '***' 0.001 '**' 0.01 '*' 0.05 '.' 0.1 ' ' 1\n",
       "\n",
       "Residual standard error: 0.7197 on 45 degrees of freedom\n",
       "Multiple R-squared:  0.736,\tAdjusted R-squared:  0.7126 \n",
       "F-statistic: 31.37 on 4 and 45 DF,  p-value: 1.696e-12\n"
      ]
     },
     "metadata": {},
     "output_type": "display_data"
    }
   ],
   "source": [
    "summary(RegModel2)"
   ]
  },
  {
   "cell_type": "code",
   "execution_count": 10,
   "metadata": {},
   "outputs": [
    {
     "data": {
      "text/html": [
       "23.3080427968846"
      ],
      "text/latex": [
       "23.3080427968846"
      ],
      "text/markdown": [
       "23.3080427968846"
      ],
      "text/plain": [
       "[1] 23.30804"
      ]
     },
     "metadata": {},
     "output_type": "display_data"
    }
   ],
   "source": [
    "Predictions2 = predict(RegModel2)\n",
    "sum((statedata$Life.Exp - Predictions2)^2)"
   ]
  },
  {
   "cell_type": "code",
   "execution_count": 11,
   "metadata": {},
   "outputs": [
    {
     "data": {
      "text/html": [
       "0.340255338936367"
      ],
      "text/latex": [
       "0.340255338936367"
      ],
      "text/markdown": [
       "0.340255338936367"
      ],
      "text/plain": [
       "[1] 0.3402553"
      ]
     },
     "metadata": {},
     "output_type": "display_data"
    },
    {
     "data": {
      "text/html": [
       "-0.588477925579257"
      ],
      "text/latex": [
       "-0.588477925579257"
      ],
      "text/markdown": [
       "-0.588477925579257"
      ],
      "text/plain": [
       "[1] -0.5884779"
      ]
     },
     "metadata": {},
     "output_type": "display_data"
    },
    {
     "data": {
      "text/html": [
       "-0.107331935353758"
      ],
      "text/latex": [
       "-0.107331935353758"
      ],
      "text/markdown": [
       "-0.107331935353758"
      ],
      "text/plain": [
       "[1] -0.1073319"
      ]
     },
     "metadata": {},
     "output_type": "display_data"
    }
   ],
   "source": [
    "cor(statedata$Life.Exp, statedata$Income)\n",
    "\n",
    "cor(statedata$Life.Exp, statedata$Illiteracy)\n",
    "\n",
    "cor(statedata$Life.Exp, statedata$Area)"
   ]
  },
  {
   "cell_type": "code",
   "execution_count": 14,
   "metadata": {},
   "outputs": [
    {
     "data": {
      "image/png": "[encoded data removed]",
      "text/plain": [
       "plot without title"
      ]
     },
     "metadata": {
      "image/png": {
       "height": 420,
       "width": 420
      },
      "text/plain": {
       "height": 420,
       "width": 420
      }
     },
     "output_type": "display_data"
    }
   ],
   "source": [
    "library(rpart)\n",
    "library(rpart.plot)\n",
    "CARTmodel = rpart(Life.Exp ~ ., data=statedata)\n",
    "prp(CARTmodel)"
   ]
  },
  {
   "cell_type": "code",
   "execution_count": 15,
   "metadata": {},
   "outputs": [
    {
     "data": {
      "text/html": [
       "28.998476622807"
      ],
      "text/latex": [
       "28.998476622807"
      ],
      "text/markdown": [
       "28.998476622807"
      ],
      "text/plain": [
       "[1] 28.99848"
      ]
     },
     "metadata": {},
     "output_type": "display_data"
    }
   ],
   "source": [
    "PredictionsCART = predict(CARTmodel)\n",
    "\n",
    "sum((statedata$Life.Exp - PredictionsCART)^2)"
   ]
  },
  {
   "cell_type": "code",
   "execution_count": 16,
   "metadata": {},
   "outputs": [
    {
     "data": {
      "image/png": "[encoded data removed]",
      "text/plain": [
       "plot without title"
      ]
     },
     "metadata": {
      "image/png": {
       "height": 420,
       "width": 420
      },
      "text/plain": {
       "height": 420,
       "width": 420
      }
     },
     "output_type": "display_data"
    }
   ],
   "source": [
    "CARTmodel2 = rpart(Life.Exp ~ ., data=statedata, minbucket=5)\n",
    "prp(CARTmodel2)"
   ]
  },
  {
   "cell_type": "code",
   "execution_count": 17,
   "metadata": {},
   "outputs": [
    {
     "data": {
      "text/html": [
       "23.6428282692308"
      ],
      "text/latex": [
       "23.6428282692308"
      ],
      "text/markdown": [
       "23.6428282692308"
      ],
      "text/plain": [
       "[1] 23.64283"
      ]
     },
     "metadata": {},
     "output_type": "display_data"
    }
   ],
   "source": [
    "PredictionsCART2 = predict(CARTmodel2)\n",
    "sum((statedata$Life.Exp - PredictionsCART2)^2)"
   ]
  },
  {
   "cell_type": "code",
   "execution_count": 18,
   "metadata": {},
   "outputs": [
    {
     "data": {
      "text/html": [
       "9.31244166666664"
      ],
      "text/latex": [
       "9.31244166666664"
      ],
      "text/markdown": [
       "9.31244166666664"
      ],
      "text/plain": [
       "[1] 9.312442"
      ]
     },
     "metadata": {},
     "output_type": "display_data"
    }
   ],
   "source": [
    "CARTmodel3 = rpart(Life.Exp ~ Area, data=statedata, minbucket=1)\n",
    "\n",
    "PredictionsCART3 = predict(CARTmodel3)\n",
    "\n",
    "sum((statedata$Life.Exp - PredictionsCART3)^2)"
   ]
  },
  {
   "cell_type": "code",
   "execution_count": 19,
   "metadata": {},
   "outputs": [
    {
     "name": "stderr",
     "output_type": "stream",
     "text": [
      "Loading required package: lattice\n",
      "\n",
      "Loading required package: ggplot2\n",
      "\n"
     ]
    }
   ],
   "source": [
    "library(caret)\n",
    "\n",
    "set.seed(111)"
   ]
  },
  {
   "cell_type": "code",
   "execution_count": 20,
   "metadata": {},
   "outputs": [],
   "source": [
    "fitControl = trainControl(method = \"cv\", number = 10)\n",
    "\n",
    "cartGrid = expand.grid(.cp = seq(0.01, 0.5, 0.01) )"
   ]
  },
  {
   "cell_type": "code",
   "execution_count": 21,
   "metadata": {},
   "outputs": [
    {
     "name": "stderr",
     "output_type": "stream",
     "text": [
      "Warning message in nominalTrainWorkflow(x = x, y = y, wts = weights, info = trainInfo, :\n",
      "\"There were missing values in resampled performance measures.\"\n"
     ]
    },
    {
     "data": {
      "text/plain": [
       "CART \n",
       "\n",
       "50 samples\n",
       " 7 predictor\n",
       "\n",
       "No pre-processing\n",
       "Resampling: Cross-Validated (10 fold) \n",
       "Summary of sample sizes: 44, 45, 45, 46, 44, 45, ... \n",
       "Resampling results across tuning parameters:\n",
       "\n",
       "  cp    RMSE      Rsquared   MAE      \n",
       "  0.01  1.042909  0.5206939  0.8299237\n",
       "  0.02  1.042909  0.5206939  0.8299237\n",
       "  0.03  1.027748  0.5338091  0.8173654\n",
       "  0.04  1.032567  0.5338091  0.8173654\n",
       "  0.05  1.032567  0.5338091  0.8173654\n",
       "  0.06  1.033866  0.5206565  0.8320776\n",
       "  0.07  1.029830  0.5285854  0.8252412\n",
       "  0.08  1.029830  0.5285854  0.8252412\n",
       "  0.09  1.029830  0.5285854  0.8252412\n",
       "  0.10  1.005814  0.5512315  0.8079269\n",
       "  0.11  1.005814  0.5512315  0.8079269\n",
       "  0.12  1.005814  0.5512315  0.8079269\n",
       "  0.13  1.032234  0.5238042  0.8262453\n",
       "  0.14  1.083214  0.5041955  0.8725504\n",
       "  0.15  1.106834  0.4822947  0.9050228\n",
       "  0.16  1.138118  0.4775423  0.9422217\n",
       "  0.17  1.174001  0.4287787  0.9676503\n",
       "  0.18  1.192122  0.3990629  0.9942598\n",
       "  0.19  1.192122  0.3990629  0.9942598\n",
       "  0.20  1.192122  0.3990629  0.9942598\n",
       "  0.21  1.192122  0.3990629  0.9942598\n",
       "  0.22  1.192122  0.3990629  0.9942598\n",
       "  0.23  1.192122  0.3990629  0.9942598\n",
       "  0.24  1.192122  0.3990629  0.9942598\n",
       "  0.25  1.192122  0.3990629  0.9942598\n",
       "  0.26  1.192122  0.3990629  0.9942598\n",
       "  0.27  1.192122  0.3990629  0.9942598\n",
       "  0.28  1.192122  0.3990629  0.9942598\n",
       "  0.29  1.192122  0.3990629  0.9942598\n",
       "  0.30  1.192122  0.3990629  0.9942598\n",
       "  0.31  1.192122  0.3990629  0.9942598\n",
       "  0.32  1.192122  0.3990629  0.9942598\n",
       "  0.33  1.192122  0.3990629  0.9942598\n",
       "  0.34  1.192122  0.3990629  0.9942598\n",
       "  0.35  1.192122  0.3990629  0.9942598\n",
       "  0.36  1.192122  0.3990629  0.9942598\n",
       "  0.37  1.192122  0.3990629  0.9942598\n",
       "  0.38  1.192122  0.3990629  0.9942598\n",
       "  0.39  1.192122  0.3990629  0.9942598\n",
       "  0.40  1.192122  0.3990629  0.9942598\n",
       "  0.41  1.192122  0.3990629  0.9942598\n",
       "  0.42  1.192122  0.3990629  0.9942598\n",
       "  0.43  1.192122  0.3990629  0.9942598\n",
       "  0.44  1.192122  0.3990629  0.9942598\n",
       "  0.45  1.192122  0.3990629  0.9942598\n",
       "  0.46  1.308759  0.3091923  1.0963695\n",
       "  0.47  1.309534  0.3328614  1.0922317\n",
       "  0.48  1.358580  0.2908310  1.1126138\n",
       "  0.49  1.335777  0.3552299  1.0771938\n",
       "  0.50  1.361946  0.2358921  1.1229974\n",
       "\n",
       "RMSE was used to select the optimal model using the smallest value.\n",
       "The final value used for the model was cp = 0.12."
      ]
     },
     "metadata": {},
     "output_type": "display_data"
    }
   ],
   "source": [
    "train(Life.Exp ~ ., data=statedata, method=\"rpart\", trControl = fitControl, tuneGrid = cartGrid)"
   ]
  },
  {
   "cell_type": "code",
   "execution_count": 22,
   "metadata": {},
   "outputs": [
    {
     "data": {
      "image/png": "[encoded data removed]",
      "text/plain": [
       "plot without title"
      ]
     },
     "metadata": {
      "image/png": {
       "height": 420,
       "width": 420
      },
      "text/plain": {
       "height": 420,
       "width": 420
      }
     },
     "output_type": "display_data"
    }
   ],
   "source": [
    "CARTmodel4 = rpart(Life.Exp ~ ., data=statedata, cp=0.12)\n",
    "prp(CARTmodel4)"
   ]
  },
  {
   "cell_type": "code",
   "execution_count": 23,
   "metadata": {},
   "outputs": [
    {
     "data": {
      "text/html": [
       "32.8654897025171"
      ],
      "text/latex": [
       "32.8654897025171"
      ],
      "text/markdown": [
       "32.8654897025171"
      ],
      "text/plain": [
       "[1] 32.86549"
      ]
     },
     "metadata": {},
     "output_type": "display_data"
    }
   ],
   "source": [
    "PredictionsCART4 = predict(CARTmodel4)\n",
    "sum((statedata$Life.Exp - PredictionsCART4)^2)"
   ]
  },
  {
   "cell_type": "code",
   "execution_count": 24,
   "metadata": {},
   "outputs": [
    {
     "name": "stderr",
     "output_type": "stream",
     "text": [
      "Warning message in nominalTrainWorkflow(x = x, y = y, wts = weights, info = trainInfo, :\n",
      "\"There were missing values in resampled performance measures.\"\n"
     ]
    },
    {
     "data": {
      "text/plain": [
       "CART \n",
       "\n",
       "50 samples\n",
       " 1 predictor\n",
       "\n",
       "No pre-processing\n",
       "Resampling: Cross-Validated (10 fold) \n",
       "Summary of sample sizes: 44, 45, 45, 46, 44, 45, ... \n",
       "Resampling results across tuning parameters:\n",
       "\n",
       "  cp    RMSE      Rsquared     MAE     \n",
       "  0.01  1.285085  0.242889993  1.068979\n",
       "  0.02  1.297420  0.227958081  1.077964\n",
       "  0.03  1.297420  0.227958081  1.077964\n",
       "  0.04  1.297420  0.227958081  1.077964\n",
       "  0.05  1.297420  0.227958081  1.077964\n",
       "  0.06  1.283241  0.255224868  1.071996\n",
       "  0.07  1.283241  0.255224868  1.071996\n",
       "  0.08  1.277535  0.253025061  1.054684\n",
       "  0.09  1.286127  0.239816630  1.060619\n",
       "  0.10  1.286127  0.239816630  1.060619\n",
       "  0.11  1.286127  0.239816630  1.060619\n",
       "  0.12  1.278550  0.239816630  1.060619\n",
       "  0.13  1.336117  0.205007172  1.116064\n",
       "  0.14  1.364618  0.132092640  1.125916\n",
       "  0.15  1.364016  0.272311296  1.124202\n",
       "  0.16  1.348422  0.216040174  1.128918\n",
       "  0.17  1.365452  0.125811897  1.110581\n",
       "  0.18  1.334937  0.006222148  1.103295\n",
       "  0.19  1.328891          NaN  1.099663\n",
       "  0.20  1.328891          NaN  1.099663\n",
       "  0.21  1.328891          NaN  1.099663\n",
       "  0.22  1.328891          NaN  1.099663\n",
       "  0.23  1.328891          NaN  1.099663\n",
       "  0.24  1.328891          NaN  1.099663\n",
       "  0.25  1.328891          NaN  1.099663\n",
       "  0.26  1.328891          NaN  1.099663\n",
       "  0.27  1.328891          NaN  1.099663\n",
       "  0.28  1.328891          NaN  1.099663\n",
       "  0.29  1.328891          NaN  1.099663\n",
       "  0.30  1.328891          NaN  1.099663\n",
       "  0.31  1.328891          NaN  1.099663\n",
       "  0.32  1.328891          NaN  1.099663\n",
       "  0.33  1.328891          NaN  1.099663\n",
       "  0.34  1.328891          NaN  1.099663\n",
       "  0.35  1.328891          NaN  1.099663\n",
       "  0.36  1.328891          NaN  1.099663\n",
       "  0.37  1.328891          NaN  1.099663\n",
       "  0.38  1.328891          NaN  1.099663\n",
       "  0.39  1.328891          NaN  1.099663\n",
       "  0.40  1.328891          NaN  1.099663\n",
       "  0.41  1.328891          NaN  1.099663\n",
       "  0.42  1.328891          NaN  1.099663\n",
       "  0.43  1.328891          NaN  1.099663\n",
       "  0.44  1.328891          NaN  1.099663\n",
       "  0.45  1.328891          NaN  1.099663\n",
       "  0.46  1.328891          NaN  1.099663\n",
       "  0.47  1.328891          NaN  1.099663\n",
       "  0.48  1.328891          NaN  1.099663\n",
       "  0.49  1.328891          NaN  1.099663\n",
       "  0.50  1.328891          NaN  1.099663\n",
       "\n",
       "RMSE was used to select the optimal model using the smallest value.\n",
       "The final value used for the model was cp = 0.08."
      ]
     },
     "metadata": {},
     "output_type": "display_data"
    }
   ],
   "source": [
    "set.seed(111)\n",
    "\n",
    "train(Life.Exp ~ Area, data=statedata, method=\"rpart\", trControl = fitControl, tuneGrid = cartGrid )"
   ]
  },
  {
   "cell_type": "code",
   "execution_count": 25,
   "metadata": {},
   "outputs": [],
   "source": [
    "CARTmodel5 = rpart(Life.Exp ~ Area, data=statedata, cp=0.02)"
   ]
  },
  {
   "cell_type": "code",
   "execution_count": 26,
   "metadata": {},
   "outputs": [
    {
     "data": {
      "image/png": "[encoded data removed]",
      "text/plain": [
       "plot without title"
      ]
     },
     "metadata": {
      "image/png": {
       "height": 420,
       "width": 420
      },
      "text/plain": {
       "height": 420,
       "width": 420
      }
     },
     "output_type": "display_data"
    }
   ],
   "source": [
    "prp(CARTmodel5)"
   ]
  },
  {
   "cell_type": "code",
   "execution_count": 27,
   "metadata": {},
   "outputs": [
    {
     "data": {
      "text/html": [
       "44.2681679040403"
      ],
      "text/latex": [
       "44.2681679040403"
      ],
      "text/markdown": [
       "44.2681679040403"
      ],
      "text/plain": [
       "[1] 44.26817"
      ]
     },
     "metadata": {},
     "output_type": "display_data"
    }
   ],
   "source": [
    "PredictionsCART5 = predict(CARTmodel5)\n",
    "\n",
    "sum((statedata$Life.Exp - PredictionsCART5)^2)"
   ]
  },
  {
   "cell_type": "code",
   "execution_count": null,
   "metadata": {},
   "outputs": [],
   "source": []
  }
 ],
 "metadata": {
  "kernelspec": {
   "display_name": "R",
   "language": "R",
   "name": "ir"
  },
  "language_info": {
   "codemirror_mode": "r",
   "file_extension": ".r",
   "mimetype": "text/x-r-source",
   "name": "R",
   "pygments_lexer": "r",
   "version": "3.6.1"
  }
 },
 "nbformat": 4,
 "nbformat_minor": 2
}
