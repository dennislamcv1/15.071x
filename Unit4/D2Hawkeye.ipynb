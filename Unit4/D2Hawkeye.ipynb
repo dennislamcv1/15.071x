{
 "cells": [
  {
   "cell_type": "code",
   "execution_count": 1,
   "metadata": {},
   "outputs": [
    {
     "name": "stdout",
     "output_type": "stream",
     "text": [
      "'data.frame':\t458005 obs. of  16 variables:\n",
      " $ age              : int  85 59 67 52 67 68 75 70 67 67 ...\n",
      " $ alzheimers       : int  0 0 0 0 0 0 0 0 0 0 ...\n",
      " $ arthritis        : int  0 0 0 0 0 0 0 0 0 0 ...\n",
      " $ cancer           : int  0 0 0 0 0 0 0 0 0 0 ...\n",
      " $ copd             : int  0 0 0 0 0 0 0 0 0 0 ...\n",
      " $ depression       : int  0 0 0 0 0 0 0 0 0 0 ...\n",
      " $ diabetes         : int  0 0 0 0 0 0 0 0 0 0 ...\n",
      " $ heart.failure    : int  0 0 0 0 0 0 0 0 0 0 ...\n",
      " $ ihd              : int  0 0 0 0 0 0 0 0 0 0 ...\n",
      " $ kidney           : int  0 0 0 0 0 0 0 0 0 0 ...\n",
      " $ osteoporosis     : int  0 0 0 0 0 0 0 0 0 0 ...\n",
      " $ stroke           : int  0 0 0 0 0 0 0 0 0 0 ...\n",
      " $ reimbursement2008: int  0 0 0 0 0 0 0 0 0 0 ...\n",
      " $ bucket2008       : int  1 1 1 1 1 1 1 1 1 1 ...\n",
      " $ reimbursement2009: int  0 0 0 0 0 0 0 0 0 0 ...\n",
      " $ bucket2009       : int  1 1 1 1 1 1 1 1 1 1 ...\n"
     ]
    }
   ],
   "source": [
    "# Unit 4 - \"Keeping an Eye on Healthcare Costs\" Lecture\n",
    "\n",
    "\n",
    "# VIDEO 6\n",
    "\n",
    "# Read in the data\n",
    "Claims = read.csv(\"ClaimsData.csv\")\n",
    "\n",
    "str(Claims)"
   ]
  },
  {
   "cell_type": "code",
   "execution_count": 2,
   "metadata": {},
   "outputs": [
    {
     "data": {
      "text/plain": [
       "\n",
       "          1           2           3           4           5 \n",
       "0.671267781 0.190170413 0.089466272 0.043324855 0.005770679 "
      ]
     },
     "metadata": {},
     "output_type": "display_data"
    }
   ],
   "source": [
    "# Percentage of patients in each cost bucket\n",
    "table(Claims$bucket2009)/nrow(Claims)"
   ]
  },
  {
   "cell_type": "code",
   "execution_count": 3,
   "metadata": {},
   "outputs": [],
   "source": [
    "# Split the data\n",
    "library(caTools)\n",
    "\n",
    "set.seed(88)\n",
    "\n",
    "spl = sample.split(Claims$bucket2009, SplitRatio = 0.6)\n",
    "\n",
    "ClaimsTrain = subset(Claims, spl==TRUE)\n",
    "\n",
    "ClaimsTest = subset(Claims, spl==FALSE)"
   ]
  },
  {
   "cell_type": "code",
   "execution_count": 4,
   "metadata": {},
   "outputs": [
    {
     "data": {
      "text/plain": [
       "   \n",
       "         1      2      3      4      5\n",
       "  1 110138   7787   3427   1452    174\n",
       "  2  16000  10721   4629   2931    559\n",
       "  3   7006   4629   2774   1621    360\n",
       "  4   2688   1943   1415   1539    352\n",
       "  5    293    191    160    309    104"
      ]
     },
     "metadata": {},
     "output_type": "display_data"
    }
   ],
   "source": [
    "# VIDEO 7\n",
    "\n",
    "# Baseline method\n",
    "table(ClaimsTest$bucket2009, ClaimsTest$bucket2008)"
   ]
  },
  {
   "cell_type": "code",
   "execution_count": 5,
   "metadata": {},
   "outputs": [
    {
     "data": {
      "text/html": [
       "0.683813495485857"
      ],
      "text/latex": [
       "0.683813495485857"
      ],
      "text/markdown": [
       "0.683813495485857"
      ],
      "text/plain": [
       "[1] 0.6838135"
      ]
     },
     "metadata": {},
     "output_type": "display_data"
    }
   ],
   "source": [
    "(110138 + 10721 + 2774 + 1539 + 104)/nrow(ClaimsTest)"
   ]
  },
  {
   "cell_type": "code",
   "execution_count": 6,
   "metadata": {},
   "outputs": [
    {
     "data": {
      "text/html": [
       "<table>\n",
       "<caption>A matrix: 5 × 5 of type dbl</caption>\n",
       "<tbody>\n",
       "\t<tr><td>0</td><td>1</td><td>2</td><td>3</td><td>4</td></tr>\n",
       "\t<tr><td>2</td><td>0</td><td>1</td><td>2</td><td>3</td></tr>\n",
       "\t<tr><td>4</td><td>2</td><td>0</td><td>1</td><td>2</td></tr>\n",
       "\t<tr><td>6</td><td>4</td><td>2</td><td>0</td><td>1</td></tr>\n",
       "\t<tr><td>8</td><td>6</td><td>4</td><td>2</td><td>0</td></tr>\n",
       "</tbody>\n",
       "</table>\n"
      ],
      "text/latex": [
       "A matrix: 5 × 5 of type dbl\n",
       "\\begin{tabular}{lllll}\n",
       "\t 0 & 1 & 2 & 3 & 4\\\\\n",
       "\t 2 & 0 & 1 & 2 & 3\\\\\n",
       "\t 4 & 2 & 0 & 1 & 2\\\\\n",
       "\t 6 & 4 & 2 & 0 & 1\\\\\n",
       "\t 8 & 6 & 4 & 2 & 0\\\\\n",
       "\\end{tabular}\n"
      ],
      "text/markdown": [
       "\n",
       "A matrix: 5 × 5 of type dbl\n",
       "\n",
       "| 0 | 1 | 2 | 3 | 4 |\n",
       "| 2 | 0 | 1 | 2 | 3 |\n",
       "| 4 | 2 | 0 | 1 | 2 |\n",
       "| 6 | 4 | 2 | 0 | 1 |\n",
       "| 8 | 6 | 4 | 2 | 0 |\n",
       "\n"
      ],
      "text/plain": [
       "     [,1] [,2] [,3] [,4] [,5]\n",
       "[1,] 0    1    2    3    4   \n",
       "[2,] 2    0    1    2    3   \n",
       "[3,] 4    2    0    1    2   \n",
       "[4,] 6    4    2    0    1   \n",
       "[5,] 8    6    4    2    0   "
      ]
     },
     "metadata": {},
     "output_type": "display_data"
    }
   ],
   "source": [
    "# Penalty Matrix\n",
    "PenaltyMatrix = matrix(c(0,1,2,3,4,2,0,1,2,3,4,2,0,1,2,6,4,2,0,1,8,6,4,2,0), byrow=TRUE, nrow=5)\n",
    "\n",
    "PenaltyMatrix"
   ]
  },
  {
   "cell_type": "code",
   "execution_count": 7,
   "metadata": {},
   "outputs": [
    {
     "data": {
      "text/plain": [
       "   \n",
       "        1     2     3     4     5\n",
       "  1     0  7787  6854  4356   696\n",
       "  2 32000     0  4629  5862  1677\n",
       "  3 28024  9258     0  1621   720\n",
       "  4 16128  7772  2830     0   352\n",
       "  5  2344  1146   640   618     0"
      ]
     },
     "metadata": {},
     "output_type": "display_data"
    },
    {
     "data": {
      "text/html": [
       "0.73860547373937"
      ],
      "text/latex": [
       "0.73860547373937"
      ],
      "text/markdown": [
       "0.73860547373937"
      ],
      "text/plain": [
       "[1] 0.7386055"
      ]
     },
     "metadata": {},
     "output_type": "display_data"
    }
   ],
   "source": [
    "# Penalty Error of Baseline Method\n",
    "as.matrix(table(ClaimsTest$bucket2009, ClaimsTest$bucket2008))*PenaltyMatrix\n",
    "\n",
    "sum(as.matrix(table(ClaimsTest$bucket2009, ClaimsTest$bucket2008))*PenaltyMatrix)/nrow(ClaimsTest)"
   ]
  },
  {
   "cell_type": "code",
   "execution_count": 8,
   "metadata": {},
   "outputs": [],
   "source": [
    "# VIDEO 8\n",
    "\n",
    "# Load necessary libraries\n",
    "library(rpart)\n",
    "library(rpart.plot)"
   ]
  },
  {
   "cell_type": "code",
   "execution_count": 9,
   "metadata": {},
   "outputs": [],
   "source": [
    "# CART model\n",
    "ClaimsTree = rpart(bucket2009 ~ age + alzheimers + arthritis + cancer + copd + depression + diabetes + heart.failure + ihd + kidney + osteoporosis + stroke + bucket2008 + reimbursement2008, data=ClaimsTrain, method=\"class\", cp=0.00005)\n"
   ]
  },
  {
   "cell_type": "code",
   "execution_count": 10,
   "metadata": {},
   "outputs": [
    {
     "name": "stderr",
     "output_type": "stream",
     "text": [
      "Warning message:\n",
      "\"labs do not fit even at cex 0.15, there may be some overplotting\"\n"
     ]
    },
    {
     "data": {
      "image/png": "[encoded data removed]",
      "text/plain": [
       "plot without title"
      ]
     },
     "metadata": {
      "image/png": {
       "height": 420,
       "width": 420
      },
      "text/plain": {
       "height": 420,
       "width": 420
      }
     },
     "output_type": "display_data"
    }
   ],
   "source": [
    "prp(ClaimsTree)"
   ]
  },
  {
   "cell_type": "code",
   "execution_count": 11,
   "metadata": {},
   "outputs": [
    {
     "data": {
      "text/plain": [
       "   PredictTest\n",
       "         1      2      3      4      5\n",
       "  1 114141   8610    124    103      0\n",
       "  2  18409  16102    187    142      0\n",
       "  3   8027   8146    118     99      0\n",
       "  4   3099   4584     53    201      0\n",
       "  5    351    657      4     45      0"
      ]
     },
     "metadata": {},
     "output_type": "display_data"
    }
   ],
   "source": [
    "# Make predictions\n",
    "PredictTest = predict(ClaimsTree, newdata = ClaimsTest, type = \"class\")\n",
    "\n",
    "table(ClaimsTest$bucket2009, PredictTest)"
   ]
  },
  {
   "cell_type": "code",
   "execution_count": 12,
   "metadata": {},
   "outputs": [
    {
     "data": {
      "text/html": [
       "0.712666892282835"
      ],
      "text/latex": [
       "0.712666892282835"
      ],
      "text/markdown": [
       "0.712666892282835"
      ],
      "text/plain": [
       "[1] 0.7126669"
      ]
     },
     "metadata": {},
     "output_type": "display_data"
    }
   ],
   "source": [
    "(114141 + 16102 + 118 + 201 + 0)/nrow(ClaimsTest)"
   ]
  },
  {
   "cell_type": "code",
   "execution_count": 13,
   "metadata": {},
   "outputs": [
    {
     "data": {
      "text/plain": [
       "   PredictTest\n",
       "        1     2     3     4     5\n",
       "  1     0  8610   248   309     0\n",
       "  2 36818     0   187   284     0\n",
       "  3 32108 16292     0    99     0\n",
       "  4 18594 18336   106     0     0\n",
       "  5  2808  3942    16    90     0"
      ]
     },
     "metadata": {},
     "output_type": "display_data"
    },
    {
     "data": {
      "text/html": [
       "0.757890197705265"
      ],
      "text/latex": [
       "0.757890197705265"
      ],
      "text/markdown": [
       "0.757890197705265"
      ],
      "text/plain": [
       "[1] 0.7578902"
      ]
     },
     "metadata": {},
     "output_type": "display_data"
    }
   ],
   "source": [
    "# Penalty Error\n",
    "as.matrix(table(ClaimsTest$bucket2009, PredictTest))*PenaltyMatrix\n",
    "\n",
    "sum(as.matrix(table(ClaimsTest$bucket2009, PredictTest))*PenaltyMatrix)/nrow(ClaimsTest)"
   ]
  },
  {
   "cell_type": "code",
   "execution_count": 14,
   "metadata": {},
   "outputs": [],
   "source": [
    "# New CART model with loss matrix\n",
    "ClaimsTree = rpart(bucket2009 ~ age + alzheimers + arthritis + cancer + copd + depression + diabetes + heart.failure + ihd + kidney + osteoporosis + stroke + bucket2008 + reimbursement2008, data=ClaimsTrain, method=\"class\", cp=0.00005, parms=list(loss=PenaltyMatrix))"
   ]
  },
  {
   "cell_type": "code",
   "execution_count": 15,
   "metadata": {},
   "outputs": [
    {
     "data": {
      "text/plain": [
       "   PredictTest\n",
       "        1     2     3     4     5\n",
       "  1 94310 25295  3087   286     0\n",
       "  2  7176 18942  8079   643     0\n",
       "  3  3590  7706  4692   401     1\n",
       "  4  1304  3193  2803   636     1\n",
       "  5   135   356   408   156     2"
      ]
     },
     "metadata": {},
     "output_type": "display_data"
    }
   ],
   "source": [
    "# Redo predictions and penalty error\n",
    "PredictTest = predict(ClaimsTree, newdata = ClaimsTest, type = \"class\")\n",
    "\n",
    "table(ClaimsTest$bucket2009, PredictTest)\n"
   ]
  },
  {
   "cell_type": "code",
   "execution_count": 16,
   "metadata": {},
   "outputs": [
    {
     "data": {
      "text/html": [
       "0.647274593072128"
      ],
      "text/latex": [
       "0.647274593072128"
      ],
      "text/markdown": [
       "0.647274593072128"
      ],
      "text/plain": [
       "[1] 0.6472746"
      ]
     },
     "metadata": {},
     "output_type": "display_data"
    },
    {
     "data": {
      "text/html": [
       "0.641816137378413"
      ],
      "text/latex": [
       "0.641816137378413"
      ],
      "text/markdown": [
       "0.641816137378413"
      ],
      "text/plain": [
       "[1] 0.6418161"
      ]
     },
     "metadata": {},
     "output_type": "display_data"
    }
   ],
   "source": [
    "(94310 + 18942 + 4692 + 636 + 2)/nrow(ClaimsTest)\n",
    "\n",
    "sum(as.matrix(table(ClaimsTest$bucket2009, PredictTest))*PenaltyMatrix)/nrow(ClaimsTest)"
   ]
  },
  {
   "cell_type": "code",
   "execution_count": null,
   "metadata": {},
   "outputs": [],
   "source": []
  }
 ],
 "metadata": {
  "kernelspec": {
   "display_name": "R",
   "language": "R",
   "name": "ir"
  },
  "language_info": {
   "codemirror_mode": "r",
   "file_extension": ".r",
   "mimetype": "text/x-r-source",
   "name": "R",
   "pygments_lexer": "r",
   "version": "3.6.1"
  }
 },
 "nbformat": 4,
 "nbformat_minor": 2
}
