{
 "cells": [
  {
   "cell_type": "code",
   "execution_count": 1,
   "metadata": {},
   "outputs": [],
   "source": [
    "IPP = read.csv(\"AnonymityPoll.csv\")"
   ]
  },
  {
   "cell_type": "code",
   "execution_count": 2,
   "metadata": {},
   "outputs": [
    {
     "data": {
      "text/plain": [
       "  Internet.Use      Smartphone         Sex           Age       \n",
       " Min.   :0.0000   Min.   :0.0000   Female:505   Min.   :18.00  \n",
       " 1st Qu.:1.0000   1st Qu.:0.0000   Male  :497   1st Qu.:37.00  \n",
       " Median :1.0000   Median :1.0000                Median :55.00  \n",
       " Mean   :0.7742   Mean   :0.5078                Mean   :52.37  \n",
       " 3rd Qu.:1.0000   3rd Qu.:1.0000                3rd Qu.:66.00  \n",
       " Max.   :1.0000   Max.   :1.0000                Max.   :96.00  \n",
       " NA's   :1        NA's   :43                    NA's   :27     \n",
       "          State           Region    Conservativeness Info.On.Internet\n",
       " California  :103   Midwest  :239   Min.   :1.000    Min.   : 0.000  \n",
       " Texas       : 72   Northeast:166   1st Qu.:3.000    1st Qu.: 2.000  \n",
       " New York    : 60   South    :359   Median :3.000    Median : 4.000  \n",
       " Pennsylvania: 45   West     :238   Mean   :3.277    Mean   : 3.795  \n",
       " Florida     : 42                   3rd Qu.:4.000    3rd Qu.: 6.000  \n",
       " Ohio        : 38                   Max.   :5.000    Max.   :11.000  \n",
       " (Other)     :642                   NA's   :62       NA's   :210     \n",
       " Worry.About.Info Privacy.Importance Anonymity.Possible Tried.Masking.Identity\n",
       " Min.   :0.0000   Min.   :  0.00     Min.   :0.0000     Min.   :0.0000        \n",
       " 1st Qu.:0.0000   1st Qu.: 41.43     1st Qu.:0.0000     1st Qu.:0.0000        \n",
       " Median :0.0000   Median : 68.75     Median :0.0000     Median :0.0000        \n",
       " Mean   :0.4886   Mean   : 62.85     Mean   :0.3692     Mean   :0.1633        \n",
       " 3rd Qu.:1.0000   3rd Qu.: 88.89     3rd Qu.:1.0000     3rd Qu.:0.0000        \n",
       " Max.   :1.0000   Max.   :100.00     Max.   :1.0000     Max.   :1.0000        \n",
       " NA's   :212      NA's   :215        NA's   :249        NA's   :218           \n",
       " Privacy.Laws.Effective\n",
       " Min.   :0.0000        \n",
       " 1st Qu.:0.0000        \n",
       " Median :0.0000        \n",
       " Mean   :0.2617        \n",
       " 3rd Qu.:1.0000        \n",
       " Max.   :1.0000        \n",
       " NA's   :108           "
      ]
     },
     "metadata": {},
     "output_type": "display_data"
    }
   ],
   "source": [
    "summary(IPP)"
   ]
  },
  {
   "cell_type": "code",
   "execution_count": 3,
   "metadata": {},
   "outputs": [
    {
     "name": "stdout",
     "output_type": "stream",
     "text": [
      "'data.frame':\t1002 obs. of  13 variables:\n",
      " $ Internet.Use          : int  1 1 0 1 0 1 1 0 0 1 ...\n",
      " $ Smartphone            : int  0 0 1 0 NA 1 0 0 NA 0 ...\n",
      " $ Sex                   : Factor w/ 2 levels \"Female\",\"Male\": 2 2 1 2 1 2 1 1 2 1 ...\n",
      " $ Age                   : int  62 45 70 70 80 49 52 76 75 76 ...\n",
      " $ State                 : Factor w/ 49 levels \"Alabama\",\"Arizona\",..: 20 39 29 10 10 41 21 31 32 32 ...\n",
      " $ Region                : Factor w/ 4 levels \"Midwest\",\"Northeast\",..: 2 3 2 3 3 3 1 2 3 3 ...\n",
      " $ Conservativeness      : int  4 1 4 4 4 4 3 3 4 4 ...\n",
      " $ Info.On.Internet      : int  0 1 0 3 NA 6 3 NA NA 0 ...\n",
      " $ Worry.About.Info      : int  1 0 0 1 NA 0 1 NA NA 0 ...\n",
      " $ Privacy.Importance    : num  100 0 NA 88.9 NA ...\n",
      " $ Anonymity.Possible    : int  0 1 0 1 NA 1 0 NA NA 1 ...\n",
      " $ Tried.Masking.Identity: int  0 0 0 0 NA 1 0 NA NA 0 ...\n",
      " $ Privacy.Laws.Effective: int  0 1 NA 0 NA 0 1 NA 0 1 ...\n"
     ]
    }
   ],
   "source": [
    "str(IPP)"
   ]
  },
  {
   "cell_type": "code",
   "execution_count": 4,
   "metadata": {},
   "outputs": [
    {
     "data": {
      "text/plain": [
       "   Min. 1st Qu.  Median    Mean 3rd Qu.    Max.    NA's \n",
       " 0.0000  0.0000  1.0000  0.5078  1.0000  1.0000      43 "
      ]
     },
     "metadata": {},
     "output_type": "display_data"
    }
   ],
   "source": [
    "summary(IPP$Smartphone)"
   ]
  },
  {
   "cell_type": "code",
   "execution_count": 5,
   "metadata": {},
   "outputs": [
    {
     "name": "stdout",
     "output_type": "stream",
     "text": [
      " int [1:1002] 0 0 1 0 NA 1 0 0 NA 0 ...\n"
     ]
    }
   ],
   "source": [
    "str(IPP$Smartphone)"
   ]
  },
  {
   "cell_type": "code",
   "execution_count": 6,
   "metadata": {},
   "outputs": [
    {
     "data": {
      "text/plain": [
       "\n",
       "  0   1 \n",
       "472 487 "
      ]
     },
     "metadata": {},
     "output_type": "display_data"
    }
   ],
   "source": [
    "table(IPP$Smartphone)"
   ]
  },
  {
   "cell_type": "code",
   "execution_count": 8,
   "metadata": {},
   "outputs": [
    {
     "data": {
      "text/plain": [
       "                      \n",
       "                       Midwest Northeast South West\n",
       "  Alabama                    0         0    11    0\n",
       "  Arizona                    0         0     0   24\n",
       "  Arkansas                   0         0    10    0\n",
       "  California                 0         0     0  103\n",
       "  Colorado                   0         0     0   19\n",
       "  Connecticut                0         8     0    0\n",
       "  Delaware                   0         0     6    0\n",
       "  District of Columbia       0         0     2    0\n",
       "  Florida                    0         0    42    0\n",
       "  Georgia                    0         0    34    0\n",
       "  Idaho                      0         0     0    8\n",
       "  Illinois                  32         0     0    0\n",
       "  Indiana                   27         0     0    0\n",
       "  Iowa                      14         0     0    0\n",
       "  Kansas                    14         0     0    0\n",
       "  Kentucky                   0         0    25    0\n",
       "  Louisiana                  0         0    17    0\n",
       "  Maine                      0         4     0    0\n",
       "  Maryland                   0         0    18    0\n",
       "  Massachusetts              0        19     0    0\n",
       "  Michigan                  31         0     0    0\n",
       "  Minnesota                 15         0     0    0\n",
       "  Mississippi                0         0    11    0\n",
       "  Missouri                  26         0     0    0\n",
       "  Montana                    0         0     0    5\n",
       "  Nebraska                  11         0     0    0\n",
       "  Nevada                     0         0     0    8\n",
       "  New Hampshire              0         7     0    0\n",
       "  New Jersey                 0        16     0    0\n",
       "  New Mexico                 0         0     0    5\n",
       "  New York                   0        60     0    0\n",
       "  North Carolina             0         0    32    0\n",
       "  North Dakota               5         0     0    0\n",
       "  Ohio                      38         0     0    0\n",
       "  Oklahoma                   0         0    14    0\n",
       "  Oregon                     0         0     0   20\n",
       "  Pennsylvania               0        45     0    0\n",
       "  Rhode Island               0         4     0    0\n",
       "  South Carolina             0         0    12    0\n",
       "  South Dakota               3         0     0    0\n",
       "  Tennessee                  0         0    17    0\n",
       "  Texas                      0         0    72    0\n",
       "  Utah                       0         0     0   11\n",
       "  Vermont                    0         3     0    0\n",
       "  Virginia                   0         0    31    0\n",
       "  Washington                 0         0     0   28\n",
       "  West Virginia              0         0     5    0\n",
       "  Wisconsin                 23         0     0    0\n",
       "  Wyoming                    0         0     0    7"
      ]
     },
     "metadata": {},
     "output_type": "display_data"
    }
   ],
   "source": [
    "table(IPP$State, IPP$Region)"
   ]
  },
  {
   "cell_type": "code",
   "execution_count": 10,
   "metadata": {},
   "outputs": [
    {
     "data": {
      "text/plain": [
       "   \n",
       "      0   1\n",
       "  0 186  17\n",
       "  1 285 470"
      ]
     },
     "metadata": {},
     "output_type": "display_data"
    }
   ],
   "source": [
    "table(IPP$Internet.Use, IPP$Smartphone)"
   ]
  },
  {
   "cell_type": "code",
   "execution_count": 11,
   "metadata": {},
   "outputs": [
    {
     "data": {
      "text/plain": [
       "  Internet.Use      Smartphone         Sex           Age       \n",
       " Min.   :0.0000   Min.   :0.0000   Female:505   Min.   :18.00  \n",
       " 1st Qu.:1.0000   1st Qu.:0.0000   Male  :497   1st Qu.:37.00  \n",
       " Median :1.0000   Median :1.0000                Median :55.00  \n",
       " Mean   :0.7742   Mean   :0.5078                Mean   :52.37  \n",
       " 3rd Qu.:1.0000   3rd Qu.:1.0000                3rd Qu.:66.00  \n",
       " Max.   :1.0000   Max.   :1.0000                Max.   :96.00  \n",
       " NA's   :1        NA's   :43                    NA's   :27     \n",
       "          State           Region    Conservativeness Info.On.Internet\n",
       " California  :103   Midwest  :239   Min.   :1.000    Min.   : 0.000  \n",
       " Texas       : 72   Northeast:166   1st Qu.:3.000    1st Qu.: 2.000  \n",
       " New York    : 60   South    :359   Median :3.000    Median : 4.000  \n",
       " Pennsylvania: 45   West     :238   Mean   :3.277    Mean   : 3.795  \n",
       " Florida     : 42                   3rd Qu.:4.000    3rd Qu.: 6.000  \n",
       " Ohio        : 38                   Max.   :5.000    Max.   :11.000  \n",
       " (Other)     :642                   NA's   :62       NA's   :210     \n",
       " Worry.About.Info Privacy.Importance Anonymity.Possible Tried.Masking.Identity\n",
       " Min.   :0.0000   Min.   :  0.00     Min.   :0.0000     Min.   :0.0000        \n",
       " 1st Qu.:0.0000   1st Qu.: 41.43     1st Qu.:0.0000     1st Qu.:0.0000        \n",
       " Median :0.0000   Median : 68.75     Median :0.0000     Median :0.0000        \n",
       " Mean   :0.4886   Mean   : 62.85     Mean   :0.3692     Mean   :0.1633        \n",
       " 3rd Qu.:1.0000   3rd Qu.: 88.89     3rd Qu.:1.0000     3rd Qu.:0.0000        \n",
       " Max.   :1.0000   Max.   :100.00     Max.   :1.0000     Max.   :1.0000        \n",
       " NA's   :212      NA's   :215        NA's   :249        NA's   :218           \n",
       " Privacy.Laws.Effective\n",
       " Min.   :0.0000        \n",
       " 1st Qu.:0.0000        \n",
       " Median :0.0000        \n",
       " Mean   :0.2617        \n",
       " 3rd Qu.:1.0000        \n",
       " Max.   :1.0000        \n",
       " NA's   :108           "
      ]
     },
     "metadata": {},
     "output_type": "display_data"
    }
   ],
   "source": [
    "summary(IPP)"
   ]
  },
  {
   "cell_type": "code",
   "execution_count": 12,
   "metadata": {},
   "outputs": [],
   "source": [
    "limited = subset(IPP, Internet.Use==1 | Smartphone == 1)"
   ]
  },
  {
   "cell_type": "code",
   "execution_count": 14,
   "metadata": {},
   "outputs": [
    {
     "name": "stdout",
     "output_type": "stream",
     "text": [
      "'data.frame':\t792 obs. of  13 variables:\n",
      " $ Internet.Use          : int  1 1 0 1 1 1 1 1 1 1 ...\n",
      " $ Smartphone            : int  0 0 1 0 1 0 0 1 1 0 ...\n",
      " $ Sex                   : Factor w/ 2 levels \"Female\",\"Male\": 2 2 1 2 2 1 1 1 1 2 ...\n",
      " $ Age                   : int  62 45 70 70 49 52 76 50 47 69 ...\n",
      " $ State                 : Factor w/ 49 levels \"Alabama\",\"Arizona\",..: 20 39 29 10 41 21 32 45 32 31 ...\n",
      " $ Region                : Factor w/ 4 levels \"Midwest\",\"Northeast\",..: 2 3 2 3 3 1 3 3 3 2 ...\n",
      " $ Conservativeness      : int  4 1 4 4 4 3 4 3 3 3 ...\n",
      " $ Info.On.Internet      : int  0 1 0 3 6 3 0 1 0 9 ...\n",
      " $ Worry.About.Info      : int  1 0 0 1 0 1 0 0 0 0 ...\n",
      " $ Privacy.Importance    : num  100 0 NA 88.9 88.9 ...\n",
      " $ Anonymity.Possible    : int  0 1 0 1 1 0 1 0 1 0 ...\n",
      " $ Tried.Masking.Identity: int  0 0 0 0 1 0 0 0 0 0 ...\n",
      " $ Privacy.Laws.Effective: int  0 1 NA 0 0 1 1 0 0 0 ...\n"
     ]
    }
   ],
   "source": [
    "str(limited)"
   ]
  },
  {
   "cell_type": "code",
   "execution_count": 15,
   "metadata": {},
   "outputs": [
    {
     "data": {
      "text/plain": [
       "  Internet.Use      Smartphone         Sex           Age       \n",
       " Min.   :0.0000   Min.   :0.0000   Female:392   Min.   :18.00  \n",
       " 1st Qu.:1.0000   1st Qu.:0.0000   Male  :400   1st Qu.:33.00  \n",
       " Median :1.0000   Median :1.0000                Median :51.00  \n",
       " Mean   :0.9785   Mean   :0.6308                Mean   :48.57  \n",
       " 3rd Qu.:1.0000   3rd Qu.:1.0000                3rd Qu.:62.00  \n",
       " Max.   :1.0000   Max.   :1.0000                Max.   :93.00  \n",
       "                  NA's   :20                    NA's   :22     \n",
       "            State           Region    Conservativeness Info.On.Internet\n",
       " California    : 89   Midwest  :172   Min.   :1.000    Min.   : 0.000  \n",
       " Texas         : 57   Northeast:128   1st Qu.:3.000    1st Qu.: 2.000  \n",
       " New York      : 45   South    :288   Median :3.000    Median : 4.000  \n",
       " Pennsylvania  : 33   West     :204   Mean   :3.237    Mean   : 3.795  \n",
       " Florida       : 32                   3rd Qu.:4.000    3rd Qu.: 6.000  \n",
       " North Carolina: 28                   Max.   :5.000    Max.   :11.000  \n",
       " (Other)       :508                   NA's   :45                       \n",
       " Worry.About.Info Privacy.Importance Anonymity.Possible Tried.Masking.Identity\n",
       " Min.   :0.0000   Min.   :  0.00     Min.   :0.0000     Min.   :0.0000        \n",
       " 1st Qu.:0.0000   1st Qu.: 41.43     1st Qu.:0.0000     1st Qu.:0.0000        \n",
       " Median :0.0000   Median : 68.75     Median :0.0000     Median :0.0000        \n",
       " Mean   :0.4886   Mean   : 62.85     Mean   :0.3692     Mean   :0.1633        \n",
       " 3rd Qu.:1.0000   3rd Qu.: 88.89     3rd Qu.:1.0000     3rd Qu.:0.0000        \n",
       " Max.   :1.0000   Max.   :100.00     Max.   :1.0000     Max.   :1.0000        \n",
       " NA's   :2        NA's   :5          NA's   :39         NA's   :8             \n",
       " Privacy.Laws.Effective\n",
       " Min.   :0.0000        \n",
       " 1st Qu.:0.0000        \n",
       " Median :0.0000        \n",
       " Mean   :0.2559        \n",
       " 3rd Qu.:1.0000        \n",
       " Max.   :1.0000        \n",
       " NA's   :65            "
      ]
     },
     "metadata": {},
     "output_type": "display_data"
    }
   ],
   "source": [
    "summary(limited)"
   ]
  },
  {
   "cell_type": "code",
   "execution_count": 16,
   "metadata": {},
   "outputs": [
    {
     "data": {
      "text/plain": [
       "\n",
       "  0   1   2   3   4   5   6   7   8   9  10  11 \n",
       "105  84  95 101 104  94  67  63  40  18  13   8 "
      ]
     },
     "metadata": {},
     "output_type": "display_data"
    }
   ],
   "source": [
    "table(limited$Info.On.Internet)"
   ]
  },
  {
   "cell_type": "code",
   "execution_count": 17,
   "metadata": {},
   "outputs": [
    {
     "data": {
      "text/plain": [
       "\n",
       "  0   1 \n",
       "404 386 "
      ]
     },
     "metadata": {},
     "output_type": "display_data"
    }
   ],
   "source": [
    "table(limited$Worry.About.Info)"
   ]
  },
  {
   "cell_type": "code",
   "execution_count": 18,
   "metadata": {},
   "outputs": [
    {
     "data": {
      "text/html": [
       "0.488607594936709"
      ],
      "text/latex": [
       "0.488607594936709"
      ],
      "text/markdown": [
       "0.488607594936709"
      ],
      "text/plain": [
       "[1] 0.4886076"
      ]
     },
     "metadata": {},
     "output_type": "display_data"
    }
   ],
   "source": [
    "386/(404+386)"
   ]
  },
  {
   "cell_type": "code",
   "execution_count": 32,
   "metadata": {},
   "outputs": [
    {
     "data": {
      "text/plain": [
       "\n",
       "  0   1 \n",
       "475 278 "
      ]
     },
     "metadata": {},
     "output_type": "display_data"
    }
   ],
   "source": [
    "table(limited$Anonymity.Possible)"
   ]
  },
  {
   "cell_type": "code",
   "execution_count": 33,
   "metadata": {},
   "outputs": [
    {
     "data": {
      "text/html": [
       "0.369189907038513"
      ],
      "text/latex": [
       "0.369189907038513"
      ],
      "text/markdown": [
       "0.369189907038513"
      ],
      "text/plain": [
       "[1] 0.3691899"
      ]
     },
     "metadata": {},
     "output_type": "display_data"
    }
   ],
   "source": [
    "278/(475+278)"
   ]
  },
  {
   "cell_type": "code",
   "execution_count": 19,
   "metadata": {},
   "outputs": [
    {
     "data": {
      "text/plain": [
       "\n",
       "  0   1 \n",
       "656 128 "
      ]
     },
     "metadata": {},
     "output_type": "display_data"
    }
   ],
   "source": [
    "table(limited$Tried.Masking.Identity)"
   ]
  },
  {
   "cell_type": "code",
   "execution_count": 20,
   "metadata": {},
   "outputs": [
    {
     "data": {
      "text/html": [
       "0.163265306122449"
      ],
      "text/latex": [
       "0.163265306122449"
      ],
      "text/markdown": [
       "0.163265306122449"
      ],
      "text/plain": [
       "[1] 0.1632653"
      ]
     },
     "metadata": {},
     "output_type": "display_data"
    }
   ],
   "source": [
    "128/(656+128)"
   ]
  },
  {
   "cell_type": "code",
   "execution_count": 21,
   "metadata": {},
   "outputs": [
    {
     "data": {
      "text/plain": [
       "\n",
       "  0   1 \n",
       "541 186 "
      ]
     },
     "metadata": {},
     "output_type": "display_data"
    }
   ],
   "source": [
    "table(limited$Privacy.Laws.Effective)"
   ]
  },
  {
   "cell_type": "code",
   "execution_count": 22,
   "metadata": {},
   "outputs": [
    {
     "data": {
      "text/html": [
       "0.255845942228336"
      ],
      "text/latex": [
       "0.255845942228336"
      ],
      "text/markdown": [
       "0.255845942228336"
      ],
      "text/plain": [
       "[1] 0.2558459"
      ]
     },
     "metadata": {},
     "output_type": "display_data"
    }
   ],
   "source": [
    "186/(541+186)"
   ]
  },
  {
   "cell_type": "code",
   "execution_count": 23,
   "metadata": {},
   "outputs": [
    {
     "data": {
      "image/png": "[encoded data removed]",
      "text/plain": [
       "Plot with title \"Histogram of IPP$Age\""
      ]
     },
     "metadata": {
      "image/png": {
       "height": 420,
       "width": 420
      },
      "text/plain": {
       "height": 420,
       "width": 420
      }
     },
     "output_type": "display_data"
    }
   ],
   "source": [
    "hist(x = IPP$Age)"
   ]
  },
  {
   "cell_type": "code",
   "execution_count": 25,
   "metadata": {},
   "outputs": [
    {
     "data": {
      "text/html": [
       "6"
      ],
      "text/latex": [
       "6"
      ],
      "text/markdown": [
       "6"
      ],
      "text/plain": [
       "[1] 6"
      ]
     },
     "metadata": {},
     "output_type": "display_data"
    }
   ],
   "source": [
    "max(table(limited$Age, limited$Info.On.Internet))"
   ]
  },
  {
   "cell_type": "code",
   "execution_count": 26,
   "metadata": {},
   "outputs": [
    {
     "data": {
      "image/png": "[encoded data removed]",
      "text/plain": [
       "plot without title"
      ]
     },
     "metadata": {
      "image/png": {
       "height": 420,
       "width": 420
      },
      "text/plain": {
       "height": 420,
       "width": 420
      }
     },
     "output_type": "display_data"
    }
   ],
   "source": [
    "plot(jitter(limited$Age), jitter(limited$Info.On.Internet))"
   ]
  },
  {
   "cell_type": "code",
   "execution_count": 29,
   "metadata": {},
   "outputs": [
    {
     "data": {
      "text/plain": [
       "$`0`\n",
       "   Min. 1st Qu.  Median    Mean 3rd Qu.    Max. \n",
       "  0.000   1.000   3.000   2.923   5.000  11.000 \n",
       "\n",
       "$`1`\n",
       "   Min. 1st Qu.  Median    Mean 3rd Qu.    Max. \n",
       "  0.000   2.000   4.000   4.368   6.000  11.000 \n"
      ]
     },
     "metadata": {},
     "output_type": "display_data"
    }
   ],
   "source": [
    "tapply(limited$Info.On.Internet, limited$Smartphone, summary)"
   ]
  },
  {
   "cell_type": "code",
   "execution_count": 31,
   "metadata": {},
   "outputs": [
    {
     "data": {
      "text/plain": [
       "$`0`\n",
       "   Min. 1st Qu.  Median    Mean 3rd Qu.    Max.    NA's \n",
       " 0.0000  0.0000  0.0000  0.1174  0.0000  1.0000       4 \n",
       "\n",
       "$`1`\n",
       "   Min. 1st Qu.  Median    Mean 3rd Qu.    Max.    NA's \n",
       " 0.0000  0.0000  0.0000  0.1925  0.0000  1.0000       4 \n"
      ]
     },
     "metadata": {},
     "output_type": "display_data"
    }
   ],
   "source": [
    "tapply(limited$Tried.Masking.Identity, limited$Smartphone, summary)"
   ]
  },
  {
   "cell_type": "code",
   "execution_count": null,
   "metadata": {},
   "outputs": [],
   "source": []
  }
 ],
 "metadata": {
  "kernelspec": {
   "display_name": "R",
   "language": "R",
   "name": "ir"
  },
  "language_info": {
   "codemirror_mode": "r",
   "file_extension": ".r",
   "mimetype": "text/x-r-source",
   "name": "R",
   "pygments_lexer": "r",
   "version": "3.6.1"
  }
 },
 "nbformat": 4,
 "nbformat_minor": 2
}
