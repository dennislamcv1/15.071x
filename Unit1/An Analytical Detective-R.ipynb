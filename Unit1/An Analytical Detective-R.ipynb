{
 "cells": [
  {
   "cell_type": "code",
   "execution_count": 1,
   "metadata": {},
   "outputs": [],
   "source": [
    "mvt = read.csv('mvtWeek1.csv')"
   ]
  },
  {
   "cell_type": "code",
   "execution_count": 2,
   "metadata": {},
   "outputs": [
    {
     "name": "stdout",
     "output_type": "stream",
     "text": [
      "'data.frame':\t191641 obs. of  11 variables:\n",
      " $ ID                 : int  8951354 8951141 8952745 8952223 8951608 8950793 8950760 8951611 8951802 8950706 ...\n",
      " $ Date               : Factor w/ 131680 levels \"1/1/01 0:01\",..: 42824 42823 42823 42823 42822 42821 42820 42819 42817 42816 ...\n",
      " $ LocationDescription: Factor w/ 78 levels \"ABANDONED BUILDING\",..: 72 72 62 72 72 72 72 72 72 72 ...\n",
      " $ Arrest             : logi  FALSE FALSE FALSE FALSE FALSE TRUE ...\n",
      " $ Domestic           : logi  FALSE FALSE FALSE FALSE FALSE FALSE ...\n",
      " $ Beat               : int  623 1213 1622 724 211 2521 423 231 1021 1215 ...\n",
      " $ District           : int  6 12 16 7 2 25 4 2 10 12 ...\n",
      " $ CommunityArea      : int  69 24 11 67 35 19 48 40 29 24 ...\n",
      " $ Year               : int  2012 2012 2012 2012 2012 2012 2012 2012 2012 2012 ...\n",
      " $ Latitude           : num  41.8 41.9 42 41.8 41.8 ...\n",
      " $ Longitude          : num  -87.6 -87.7 -87.8 -87.7 -87.6 ...\n"
     ]
    }
   ],
   "source": [
    "str(mvt)"
   ]
  },
  {
   "cell_type": "code",
   "execution_count": 3,
   "metadata": {},
   "outputs": [
    {
     "data": {
      "text/plain": [
       "       ID                      Date       \n",
       " Min.   :1310022   5/16/08 0:00  :    11  \n",
       " 1st Qu.:2832144   10/17/01 22:00:    10  \n",
       " Median :4762956   4/13/04 21:00 :    10  \n",
       " Mean   :4968629   9/17/05 22:00 :    10  \n",
       " 3rd Qu.:7201878   10/12/01 22:00:     9  \n",
       " Max.   :9181151   10/13/01 22:00:     9  \n",
       "                   (Other)       :191582  \n",
       "                     LocationDescription   Arrest         Domestic      \n",
       " STREET                        :156564   Mode :logical   Mode :logical  \n",
       " PARKING LOT/GARAGE(NON.RESID.): 14852   FALSE:176105    FALSE:191226   \n",
       " OTHER                         :  4573   TRUE :15536     TRUE :415      \n",
       " ALLEY                         :  2308                                  \n",
       " GAS STATION                   :  2111                                  \n",
       " DRIVEWAY - RESIDENTIAL        :  1675                                  \n",
       " (Other)                       :  9558                                  \n",
       "      Beat         District     CommunityArea        Year         Latitude    \n",
       " Min.   : 111   Min.   : 1.00   Min.   : 0      Min.   :2001   Min.   :41.64  \n",
       " 1st Qu.: 722   1st Qu.: 6.00   1st Qu.:22      1st Qu.:2003   1st Qu.:41.77  \n",
       " Median :1121   Median :10.00   Median :32      Median :2006   Median :41.85  \n",
       " Mean   :1259   Mean   :11.82   Mean   :38      Mean   :2006   Mean   :41.84  \n",
       " 3rd Qu.:1733   3rd Qu.:17.00   3rd Qu.:60      3rd Qu.:2009   3rd Qu.:41.92  \n",
       " Max.   :2535   Max.   :31.00   Max.   :77      Max.   :2012   Max.   :42.02  \n",
       "                NA's   :43056   NA's   :24616                  NA's   :2276   \n",
       "   Longitude     \n",
       " Min.   :-87.93  \n",
       " 1st Qu.:-87.72  \n",
       " Median :-87.68  \n",
       " Mean   :-87.68  \n",
       " 3rd Qu.:-87.64  \n",
       " Max.   :-87.52  \n",
       " NA's   :2276    "
      ]
     },
     "metadata": {},
     "output_type": "display_data"
    }
   ],
   "source": [
    "summary(mvt)"
   ]
  },
  {
   "cell_type": "code",
   "execution_count": 4,
   "metadata": {},
   "outputs": [],
   "source": [
    "DateConvert = as.Date(strptime(mvt$Date, \"%m/%d/%y %H:%M\"))"
   ]
  },
  {
   "cell_type": "code",
   "execution_count": 6,
   "metadata": {},
   "outputs": [
    {
     "data": {
      "text/html": [
       "<dl class=dl-horizontal>\n",
       "\t<dt>Min.</dt>\n",
       "\t\t<dd><time datetime=\"2001-01-01\">2001-01-01</time></dd>\n",
       "\t<dt>1st Qu.</dt>\n",
       "\t\t<dd><time datetime=\"2003-07-10\">2003-07-10</time></dd>\n",
       "\t<dt>Median</dt>\n",
       "\t\t<dd><time datetime=\"2006-05-21\">2006-05-21</time></dd>\n",
       "\t<dt>Mean</dt>\n",
       "\t\t<dd><time datetime=\"2006-08-23\">2006-08-23</time></dd>\n",
       "\t<dt>3rd Qu.</dt>\n",
       "\t\t<dd><time datetime=\"2009-10-24\">2009-10-24</time></dd>\n",
       "\t<dt>Max.</dt>\n",
       "\t\t<dd><time datetime=\"2012-12-31\">2012-12-31</time></dd>\n",
       "</dl>\n"
      ],
      "text/latex": [
       "\\begin{description*}\n",
       "\\item[Min.] 2001-01-01\n",
       "\\item[1st Qu.] 2003-07-10\n",
       "\\item[Median] 2006-05-21\n",
       "\\item[Mean] 2006-08-23\n",
       "\\item[3rd Qu.] 2009-10-24\n",
       "\\item[Max.] 2012-12-31\n",
       "\\end{description*}\n"
      ],
      "text/markdown": [
       "Min.\n",
       ":   2001-01-011st Qu.\n",
       ":   2003-07-10Median\n",
       ":   2006-05-21Mean\n",
       ":   2006-08-233rd Qu.\n",
       ":   2009-10-24Max.\n",
       ":   2012-12-31\n",
       "\n"
      ],
      "text/plain": [
       "        Min.      1st Qu.       Median         Mean      3rd Qu.         Max. \n",
       "\"2001-01-01\" \"2003-07-10\" \"2006-05-21\" \"2006-08-23\" \"2009-10-24\" \"2012-12-31\" "
      ]
     },
     "metadata": {},
     "output_type": "display_data"
    }
   ],
   "source": [
    "summary(DateConvert)"
   ]
  },
  {
   "cell_type": "code",
   "execution_count": 7,
   "metadata": {},
   "outputs": [],
   "source": [
    "mvt$Month = months(DateConvert)"
   ]
  },
  {
   "cell_type": "code",
   "execution_count": 8,
   "metadata": {},
   "outputs": [],
   "source": [
    "mvt$Weekday = weekdays(DateConvert)"
   ]
  },
  {
   "cell_type": "code",
   "execution_count": 9,
   "metadata": {},
   "outputs": [],
   "source": [
    "mvt$Date = DateConvert"
   ]
  },
  {
   "cell_type": "code",
   "execution_count": 11,
   "metadata": {},
   "outputs": [
    {
     "data": {
      "text/plain": [
       "\n",
       "    April    August  December  February   January      July      June     March \n",
       "    15280     16572     16426     13511     16047     16801     16002     15758 \n",
       "      May  November   October September \n",
       "    16035     16063     17086     16060 "
      ]
     },
     "metadata": {},
     "output_type": "display_data"
    }
   ],
   "source": [
    "table(mvt$Month)"
   ]
  },
  {
   "cell_type": "code",
   "execution_count": 12,
   "metadata": {},
   "outputs": [
    {
     "data": {
      "text/plain": [
       "\n",
       "   Friday    Monday  Saturday    Sunday  Thursday   Tuesday Wednesday \n",
       "    29284     27397     27118     26316     27319     26791     27416 "
      ]
     },
     "metadata": {},
     "output_type": "display_data"
    }
   ],
   "source": [
    "table(mvt$Weekday)"
   ]
  },
  {
   "cell_type": "code",
   "execution_count": 15,
   "metadata": {
    "scrolled": false
   },
   "outputs": [
    {
     "data": {
      "text/plain": [
       "       \n",
       "        April August December February January  July  June March   May November\n",
       "  FALSE 14028  15243    15029    12273   14612 15477 14772 14460 14848    14807\n",
       "  TRUE   1252   1329     1397     1238    1435  1324  1230  1298  1187     1256\n",
       "       \n",
       "        October September\n",
       "  FALSE   15744     14812\n",
       "  TRUE     1342      1248"
      ]
     },
     "metadata": {},
     "output_type": "display_data"
    }
   ],
   "source": [
    "table(mvt$Arrest, mvt$Month)"
   ]
  },
  {
   "cell_type": "code",
   "execution_count": 16,
   "metadata": {},
   "outputs": [
    {
     "data": {
      "image/png": "[encoded data removed]",
      "text/plain": [
       "Plot with title \"Histogram of mvt$Date\""
      ]
     },
     "metadata": {
      "image/png": {
       "height": 420,
       "width": 420
      },
      "text/plain": {
       "height": 420,
       "width": 420
      }
     },
     "output_type": "display_data"
    }
   ],
   "source": [
    "hist(mvt$Date, breaks=100)"
   ]
  },
  {
   "cell_type": "code",
   "execution_count": 18,
   "metadata": {},
   "outputs": [
    {
     "data": {
      "image/png": "[encoded data removed]",
      "text/plain": [
       "plot without title"
      ]
     },
     "metadata": {
      "image/png": {
       "height": 420,
       "width": 420
      },
      "text/plain": {
       "height": 420,
       "width": 420
      }
     },
     "output_type": "display_data"
    }
   ],
   "source": [
    "boxplot(mvt$Date ~ mvt$Arrest)"
   ]
  },
  {
   "cell_type": "code",
   "execution_count": 19,
   "metadata": {},
   "outputs": [
    {
     "data": {
      "text/plain": [
       "       \n",
       "         2001  2002  2003  2004  2005  2006  2007  2008  2009  2010  2011  2012\n",
       "  FALSE 18517 16638 14859 15169 14956 14796 13068 13425 11327 14796 15012 13542\n",
       "  TRUE   2152  2115  1798  1693  1528  1302  1212  1020   840   701   625   550"
      ]
     },
     "metadata": {},
     "output_type": "display_data"
    }
   ],
   "source": [
    "table(mvt$Arrest, mvt$Year)"
   ]
  },
  {
   "cell_type": "code",
   "execution_count": 20,
   "metadata": {},
   "outputs": [
    {
     "data": {
      "text/html": [
       "0.10411727708162"
      ],
      "text/latex": [
       "0.10411727708162"
      ],
      "text/markdown": [
       "0.10411727708162"
      ],
      "text/plain": [
       "[1] 0.1041173"
      ]
     },
     "metadata": {},
     "output_type": "display_data"
    }
   ],
   "source": [
    "2152/(18517+2152)"
   ]
  },
  {
   "cell_type": "code",
   "execution_count": 21,
   "metadata": {},
   "outputs": [
    {
     "data": {
      "text/html": [
       "0.0848739495798319"
      ],
      "text/latex": [
       "0.0848739495798319"
      ],
      "text/markdown": [
       "0.0848739495798319"
      ],
      "text/plain": [
       "[1] 0.08487395"
      ]
     },
     "metadata": {},
     "output_type": "display_data"
    }
   ],
   "source": [
    "1212/(13068+1212)"
   ]
  },
  {
   "cell_type": "code",
   "execution_count": 22,
   "metadata": {},
   "outputs": [
    {
     "data": {
      "text/html": [
       "0.0390292364462106"
      ],
      "text/latex": [
       "0.0390292364462106"
      ],
      "text/markdown": [
       "0.0390292364462106"
      ],
      "text/plain": [
       "[1] 0.03902924"
      ]
     },
     "metadata": {},
     "output_type": "display_data"
    }
   ],
   "source": [
    "550/(13542+550)"
   ]
  },
  {
   "cell_type": "code",
   "execution_count": 23,
   "metadata": {},
   "outputs": [
    {
     "data": {
      "text/plain": [
       "\n",
       "    AIRPORT BUILDING NON-TERMINAL - SECURE AREA \n",
       "                                              1 \n",
       "                 AIRPORT EXTERIOR - SECURE AREA \n",
       "                                              1 \n",
       "                                ANIMAL HOSPITAL \n",
       "                                              1 \n",
       "                                APPLIANCE STORE \n",
       "                                              1 \n",
       "                                      CTA TRAIN \n",
       "                                              1 \n",
       "                        JAIL / LOCK-UP FACILITY \n",
       "                                              1 \n",
       "                                      NEWSSTAND \n",
       "                                              1 \n",
       "                                         BRIDGE \n",
       "                                              2 \n",
       "              COLLEGE/UNIVERSITY RESIDENCE HALL \n",
       "                                              2 \n",
       "                              CURRENCY EXCHANGE \n",
       "                                              2 \n",
       "                                  BOWLING ALLEY \n",
       "                                              3 \n",
       "                                 CLEANING STORE \n",
       "                                              3 \n",
       "                          MEDICAL/DENTAL OFFICE \n",
       "                                              3 \n",
       "                             ABANDONED BUILDING \n",
       "                                              4 \n",
       "AIRPORT BUILDING NON-TERMINAL - NON-SECURE AREA \n",
       "                                              4 \n",
       "                                     BARBERSHOP \n",
       "                                              4 \n",
       "                 LAKEFRONT/WATERFRONT/RIVERBANK \n",
       "                                              4 \n",
       "                                        LIBRARY \n",
       "                                              4 \n",
       "                               SAVINGS AND LOAN \n",
       "                                              4 \n",
       " AIRPORT TERMINAL UPPER LEVEL - NON-SECURE AREA \n",
       "                                              5 \n",
       "                                  CHA APARTMENT \n",
       "                                              5 \n",
       "                                DAY CARE CENTER \n",
       "                                              5 \n",
       "                                   FIRE STATION \n",
       "                                              5 \n",
       "                                FOREST PRESERVE \n",
       "                                              6 \n",
       "                                           BANK \n",
       "                                              7 \n",
       "                              CONVENIENCE STORE \n",
       "                                              7 \n",
       "                                     DRUG STORE \n",
       "                                              8 \n",
       "                OTHER COMMERCIAL TRANSPORTATION \n",
       "                                              8 \n",
       "                                  ATHLETIC CLUB \n",
       "                                              9 \n",
       "                  AIRPORT VENDING ESTABLISHMENT \n",
       "                                             10 \n",
       "                            AIRPORT PARKING LOT \n",
       "                                             11 \n",
       "                      SCHOOL, PRIVATE, BUILDING \n",
       "                                             14 \n",
       "                            TAVERN/LIQUOR STORE \n",
       "                                             14 \n",
       "                 FACTORY/MANUFACTURING BUILDING \n",
       "                                             16 \n",
       "                                  BAR OR TAVERN \n",
       "                                             17 \n",
       "                                      WAREHOUSE \n",
       "                                             17 \n",
       "                            MOVIE HOUSE/THEATER \n",
       "                                             18 \n",
       "                        RESIDENCE PORCH/HALLWAY \n",
       "                                             18 \n",
       "                   NURSING HOME/RETIREMENT HOME \n",
       "                                             21 \n",
       "                                        TAXICAB \n",
       "                                             21 \n",
       "                               DEPARTMENT STORE \n",
       "                                             22 \n",
       "                             HIGHWAY/EXPRESSWAY \n",
       "                                             22 \n",
       "                       SCHOOL, PRIVATE, GROUNDS \n",
       "                                             23 \n",
       "                             VEHICLE-COMMERCIAL \n",
       "                                             23 \n",
       "             AIRPORT EXTERIOR - NON-SECURE AREA \n",
       "                                             24 \n",
       "              OTHER RAILROAD PROP / TRAIN DEPOT \n",
       "                                             28 \n",
       "                             SMALL RETAIL STORE \n",
       "                                             33 \n",
       "                              CONSTRUCTION SITE \n",
       "                                             35 \n",
       "                                       CAR WASH \n",
       "                                             44 \n",
       "                     COLLEGE/UNIVERSITY GROUNDS \n",
       "                                             47 \n",
       "                   GOVERNMENT BUILDING/PROPERTY \n",
       "                                             48 \n",
       "                                     RESTAURANT \n",
       "                                             49 \n",
       "              CHURCH/SYNAGOGUE/PLACE OF WORSHIP \n",
       "                                             56 \n",
       "                             GROCERY FOOD STORE \n",
       "                                             80 \n",
       "                      HOSPITAL BUILDING/GROUNDS \n",
       "                                            101 \n",
       "                       SCHOOL, PUBLIC, BUILDING \n",
       "                                            114 \n",
       "                                    HOTEL/MOTEL \n",
       "                                            124 \n",
       "                   COMMERCIAL / BUSINESS OFFICE \n",
       "                                            126 \n",
       "                    CTA GARAGE / OTHER PROPERTY \n",
       "                                            148 \n",
       "                           SPORTS ARENA/STADIUM \n",
       "                                            166 \n",
       "                                      APARTMENT \n",
       "                                            184 \n",
       "                        SCHOOL, PUBLIC, GROUNDS \n",
       "                                            206 \n",
       "                                  PARK PROPERTY \n",
       "                                            255 \n",
       "                POLICE FACILITY/VEH PARKING LOT \n",
       "                                            266 \n",
       "                               AIRPORT/AIRCRAFT \n",
       "                                            363 \n",
       "                        CHA PARKING LOT/GROUNDS \n",
       "                                            405 \n",
       "                                       SIDEWALK \n",
       "                                            462 \n",
       "                         VEHICLE NON-COMMERCIAL \n",
       "                                            817 \n",
       "                                VACANT LOT/LAND \n",
       "                                            985 \n",
       "                               RESIDENCE-GARAGE \n",
       "                                           1176 \n",
       "                                      RESIDENCE \n",
       "                                           1302 \n",
       "                  RESIDENTIAL YARD (FRONT/BACK) \n",
       "                                           1536 \n",
       "                         DRIVEWAY - RESIDENTIAL \n",
       "                                           1675 \n",
       "                                    GAS STATION \n",
       "                                           2111 \n",
       "                                          ALLEY \n",
       "                                           2308 \n",
       "                                          OTHER \n",
       "                                           4573 \n",
       "                 PARKING LOT/GARAGE(NON.RESID.) \n",
       "                                          14852 \n",
       "                                         STREET \n",
       "                                         156564 "
      ]
     },
     "metadata": {},
     "output_type": "display_data"
    }
   ],
   "source": [
    "sort(table(mvt$LocationDescription))"
   ]
  },
  {
   "cell_type": "code",
   "execution_count": 24,
   "metadata": {},
   "outputs": [],
   "source": [
    "Top5 = subset(mvt, LocationDescription==\"STREET\" | LocationDescription==\"PARKING LOT/GARAGE(NON.RESID.)\" | LocationDescription==\"ALLEY\" |LocationDescription==\"GAS STATION\" |LocationDescription==\"DRIVEWAY - RESIDENTIAL\")"
   ]
  },
  {
   "cell_type": "code",
   "execution_count": 25,
   "metadata": {},
   "outputs": [
    {
     "data": {
      "text/plain": [
       "       ID               Date                                LocationDescription\n",
       " Min.   :1310022   Min.   :2001-01-01   STREET                        :156564  \n",
       " 1st Qu.:2827268   1st Qu.:2003-07-08   PARKING LOT/GARAGE(NON.RESID.): 14852  \n",
       " Median :4752514   Median :2006-05-16   ALLEY                         :  2308  \n",
       " Mean   :4959006   Mean   :2006-08-18   GAS STATION                   :  2111  \n",
       " 3rd Qu.:7184899   3rd Qu.:2009-10-15   DRIVEWAY - RESIDENTIAL        :  1675  \n",
       " Max.   :9181151   Max.   :2012-12-31   ABANDONED BUILDING            :     0  \n",
       "                                        (Other)                       :     0  \n",
       "   Arrest         Domestic            Beat         District     CommunityArea  \n",
       " Mode :logical   Mode :logical   Min.   : 111   Min.   : 1.00   Min.   : 0.00  \n",
       " FALSE:163492    FALSE:177193    1st Qu.: 722   1st Qu.: 6.00   1st Qu.:22.00  \n",
       " TRUE :14018     TRUE :317       Median :1121   Median :10.00   Median :31.00  \n",
       "                                 Mean   :1264   Mean   :11.88   Mean   :37.74  \n",
       "                                 3rd Qu.:1733   3rd Qu.:17.00   3rd Qu.:59.00  \n",
       "                                 Max.   :2535   Max.   :31.00   Max.   :77.00  \n",
       "                                                NA's   :39988   NA's   :22857  \n",
       "      Year         Latitude       Longitude         Month          \n",
       " Min.   :2001   Min.   :41.64   Min.   :-87.92   Length:177510     \n",
       " 1st Qu.:2003   1st Qu.:41.77   1st Qu.:-87.72   Class :character  \n",
       " Median :2006   Median :41.85   Median :-87.68   Mode  :character  \n",
       " Mean   :2006   Mean   :41.85   Mean   :-87.68                     \n",
       " 3rd Qu.:2009   3rd Qu.:41.92   3rd Qu.:-87.64                     \n",
       " Max.   :2012   Max.   :42.02   Max.   :-87.52                     \n",
       "                NA's   :2099    NA's   :2099                       \n",
       "   Weekday         \n",
       " Length:177510     \n",
       " Class :character  \n",
       " Mode  :character  \n",
       "                   \n",
       "                   \n",
       "                   \n",
       "                   "
      ]
     },
     "metadata": {},
     "output_type": "display_data"
    }
   ],
   "source": [
    "summary(Top5)"
   ]
  },
  {
   "cell_type": "code",
   "execution_count": 26,
   "metadata": {},
   "outputs": [],
   "source": [
    "Top5$LocationDescription = factor(Top5$LocationDescription)"
   ]
  },
  {
   "cell_type": "code",
   "execution_count": 27,
   "metadata": {},
   "outputs": [
    {
     "name": "stdout",
     "output_type": "stream",
     "text": [
      "'data.frame':\t177510 obs. of  13 variables:\n",
      " $ ID                 : int  8951354 8951141 8952223 8951608 8950793 8950760 8951611 8951802 8950706 8951585 ...\n",
      " $ Date               : Date, format: \"2012-12-31\" \"2012-12-31\" ...\n",
      " $ LocationDescription: Factor w/ 5 levels \"ALLEY\",\"DRIVEWAY - RESIDENTIAL\",..: 5 5 5 5 5 5 5 5 5 5 ...\n",
      " $ Arrest             : logi  FALSE FALSE FALSE FALSE TRUE FALSE ...\n",
      " $ Domestic           : logi  FALSE FALSE FALSE FALSE FALSE FALSE ...\n",
      " $ Beat               : int  623 1213 724 211 2521 423 231 1021 1215 1011 ...\n",
      " $ District           : int  6 12 7 2 25 4 2 10 12 10 ...\n",
      " $ CommunityArea      : int  69 24 67 35 19 48 40 29 24 29 ...\n",
      " $ Year               : int  2012 2012 2012 2012 2012 2012 2012 2012 2012 2012 ...\n",
      " $ Latitude           : num  41.8 41.9 41.8 41.8 41.9 ...\n",
      " $ Longitude          : num  -87.6 -87.7 -87.7 -87.6 -87.8 ...\n",
      " $ Month              : chr  \"December\" \"December\" \"December\" \"December\" ...\n",
      " $ Weekday            : chr  \"Monday\" \"Monday\" \"Monday\" \"Monday\" ...\n"
     ]
    }
   ],
   "source": [
    "str(Top5)"
   ]
  },
  {
   "cell_type": "code",
   "execution_count": 28,
   "metadata": {},
   "outputs": [
    {
     "data": {
      "text/plain": [
       "                                \n",
       "                                  FALSE   TRUE\n",
       "  ALLEY                            2059    249\n",
       "  DRIVEWAY - RESIDENTIAL           1543    132\n",
       "  GAS STATION                      1672    439\n",
       "  PARKING LOT/GARAGE(NON.RESID.)  13249   1603\n",
       "  STREET                         144969  11595"
      ]
     },
     "metadata": {},
     "output_type": "display_data"
    }
   ],
   "source": [
    "table(Top5$LocationDescription,Top5$Arrest)"
   ]
  },
  {
   "cell_type": "code",
   "execution_count": 29,
   "metadata": {},
   "outputs": [
    {
     "data": {
      "text/plain": [
       ", ,  = Friday\n",
       "\n",
       "                                \n",
       "                                 FALSE  TRUE\n",
       "  ALLEY                            342    43\n",
       "  DRIVEWAY - RESIDENTIAL           238    19\n",
       "  GAS STATION                      268    64\n",
       "  PARKING LOT/GARAGE(NON.RESID.)  2057   274\n",
       "  STREET                         22024  1749\n",
       "\n",
       ", ,  = Monday\n",
       "\n",
       "                                \n",
       "                                 FALSE  TRUE\n",
       "  ALLEY                            288    32\n",
       "  DRIVEWAY - RESIDENTIAL           237    18\n",
       "  GAS STATION                      215    65\n",
       "  PARKING LOT/GARAGE(NON.RESID.)  1888   240\n",
       "  STREET                         20706  1599\n",
       "\n",
       ", ,  = Saturday\n",
       "\n",
       "                                \n",
       "                                 FALSE  TRUE\n",
       "  ALLEY                            308    33\n",
       "  DRIVEWAY - RESIDENTIAL           182    20\n",
       "  GAS STATION                      270    68\n",
       "  PARKING LOT/GARAGE(NON.RESID.)  1951   248\n",
       "  STREET                         20502  1673\n",
       "\n",
       ", ,  = Sunday\n",
       "\n",
       "                                \n",
       "                                 FALSE  TRUE\n",
       "  ALLEY                            270    37\n",
       "  DRIVEWAY - RESIDENTIAL           197    24\n",
       "  GAS STATION                      267    69\n",
       "  PARKING LOT/GARAGE(NON.RESID.)  1738   198\n",
       "  STREET                         19949  1807\n",
       "\n",
       ", ,  = Thursday\n",
       "\n",
       "                                \n",
       "                                 FALSE  TRUE\n",
       "  ALLEY                            279    36\n",
       "  DRIVEWAY - RESIDENTIAL           247    16\n",
       "  GAS STATION                      229    53\n",
       "  PARKING LOT/GARAGE(NON.RESID.)  1872   210\n",
       "  STREET                         20747  1549\n",
       "\n",
       ", ,  = Tuesday\n",
       "\n",
       "                                \n",
       "                                 FALSE  TRUE\n",
       "  ALLEY                            296    27\n",
       "  DRIVEWAY - RESIDENTIAL           229    14\n",
       "  GAS STATION                      213    57\n",
       "  PARKING LOT/GARAGE(NON.RESID.)  1876   197\n",
       "  STREET                         20303  1585\n",
       "\n",
       ", ,  = Wednesday\n",
       "\n",
       "                                \n",
       "                                 FALSE  TRUE\n",
       "  ALLEY                            276    41\n",
       "  DRIVEWAY - RESIDENTIAL           213    21\n",
       "  GAS STATION                      210    63\n",
       "  PARKING LOT/GARAGE(NON.RESID.)  1867   236\n",
       "  STREET                         20738  1633\n"
      ]
     },
     "metadata": {},
     "output_type": "display_data"
    }
   ],
   "source": [
    "table(Top5$LocationDescription,Top5$Arrest,Top5$Weekday)"
   ]
  },
  {
   "cell_type": "code",
   "execution_count": 30,
   "metadata": {},
   "outputs": [
    {
     "data": {
      "text/plain": [
       "                                \n",
       "                                 Friday Monday Saturday Sunday Thursday Tuesday\n",
       "  ALLEY                             385    320      341    307      315     323\n",
       "  DRIVEWAY - RESIDENTIAL            257    255      202    221      263     243\n",
       "  GAS STATION                       332    280      338    336      282     270\n",
       "  PARKING LOT/GARAGE(NON.RESID.)   2331   2128     2199   1936     2082    2073\n",
       "  STREET                          23773  22305    22175  21756    22296   21888\n",
       "                                \n",
       "                                 Wednesday\n",
       "  ALLEY                                317\n",
       "  DRIVEWAY - RESIDENTIAL               234\n",
       "  GAS STATION                          273\n",
       "  PARKING LOT/GARAGE(NON.RESID.)      2103\n",
       "  STREET                             22371"
      ]
     },
     "metadata": {},
     "output_type": "display_data"
    }
   ],
   "source": [
    "table(Top5$LocationDescription, Top5$Weekday)"
   ]
  },
  {
   "cell_type": "code",
   "execution_count": null,
   "metadata": {},
   "outputs": [],
   "source": []
  }
 ],
 "metadata": {
  "kernelspec": {
   "display_name": "R",
   "language": "R",
   "name": "ir"
  },
  "language_info": {
   "codemirror_mode": "r",
   "file_extension": ".r",
   "mimetype": "text/x-r-source",
   "name": "R",
   "pygments_lexer": "r",
   "version": "3.6.1"
  }
 },
 "nbformat": 4,
 "nbformat_minor": 2
}
