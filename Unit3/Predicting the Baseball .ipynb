{
 "cells": [
  {
   "cell_type": "code",
   "execution_count": 1,
   "metadata": {},
   "outputs": [],
   "source": [
    "baseball = read.csv(\"baseball.csv\")"
   ]
  },
  {
   "cell_type": "code",
   "execution_count": 2,
   "metadata": {},
   "outputs": [
    {
     "data": {
      "text/html": [
       "1232"
      ],
      "text/latex": [
       "1232"
      ],
      "text/markdown": [
       "1232"
      ],
      "text/plain": [
       "[1] 1232"
      ]
     },
     "metadata": {},
     "output_type": "display_data"
    }
   ],
   "source": [
    "nrow(baseball)"
   ]
  },
  {
   "cell_type": "code",
   "execution_count": 3,
   "metadata": {},
   "outputs": [
    {
     "data": {
      "text/plain": [
       "\n",
       "1962 1963 1964 1965 1966 1967 1968 1969 1970 1971 1973 1974 1975 1976 1977 1978 \n",
       "  20   20   20   20   20   20   20   24   24   24   24   24   24   24   26   26 \n",
       "1979 1980 1982 1983 1984 1985 1986 1987 1988 1989 1990 1991 1992 1993 1996 1997 \n",
       "  26   26   26   26   26   26   26   26   26   26   26   26   26   28   28   28 \n",
       "1998 1999 2000 2001 2002 2003 2004 2005 2006 2007 2008 2009 2010 2011 2012 \n",
       "  30   30   30   30   30   30   30   30   30   30   30   30   30   30   30 "
      ]
     },
     "metadata": {},
     "output_type": "display_data"
    }
   ],
   "source": [
    "table(baseball$Year)"
   ]
  },
  {
   "cell_type": "code",
   "execution_count": 4,
   "metadata": {},
   "outputs": [
    {
     "data": {
      "text/html": [
       "47"
      ],
      "text/latex": [
       "47"
      ],
      "text/markdown": [
       "47"
      ],
      "text/plain": [
       "[1] 47"
      ]
     },
     "metadata": {},
     "output_type": "display_data"
    }
   ],
   "source": [
    "length(table(baseball$Year)) "
   ]
  },
  {
   "cell_type": "code",
   "execution_count": 5,
   "metadata": {},
   "outputs": [],
   "source": [
    "baseball = subset(baseball, Playoffs == 1)"
   ]
  },
  {
   "cell_type": "code",
   "execution_count": 6,
   "metadata": {},
   "outputs": [
    {
     "data": {
      "text/html": [
       "244"
      ],
      "text/latex": [
       "244"
      ],
      "text/markdown": [
       "244"
      ],
      "text/plain": [
       "[1] 244"
      ]
     },
     "metadata": {},
     "output_type": "display_data"
    }
   ],
   "source": [
    "nrow(baseball)"
   ]
  },
  {
   "cell_type": "code",
   "execution_count": 7,
   "metadata": {},
   "outputs": [
    {
     "data": {
      "text/plain": [
       "\n",
       "1962 1963 1964 1965 1966 1967 1968 1969 1970 1971 1973 1974 1975 1976 1977 1978 \n",
       "   2    2    2    2    2    2    2    4    4    4    4    4    4    4    4    4 \n",
       "1979 1980 1982 1983 1984 1985 1986 1987 1988 1989 1990 1991 1992 1993 1996 1997 \n",
       "   4    4    4    4    4    4    4    4    4    4    4    4    4    4    8    8 \n",
       "1998 1999 2000 2001 2002 2003 2004 2005 2006 2007 2008 2009 2010 2011 2012 \n",
       "   8    8    8    8    8    8    8    8    8    8    8    8    8    8   10 "
      ]
     },
     "metadata": {},
     "output_type": "display_data"
    }
   ],
   "source": [
    "table(baseball$Year)"
   ]
  },
  {
   "cell_type": "code",
   "execution_count": 8,
   "metadata": {},
   "outputs": [
    {
     "data": {
      "text/plain": [
       "\n",
       " 2  4  8 10 \n",
       " 7 23 16  1 "
      ]
     },
     "metadata": {},
     "output_type": "display_data"
    }
   ],
   "source": [
    "table(table(baseball$Year))"
   ]
  },
  {
   "cell_type": "code",
   "execution_count": 10,
   "metadata": {},
   "outputs": [],
   "source": [
    "PlayoffTable = table(baseball$Year)"
   ]
  },
  {
   "cell_type": "code",
   "execution_count": 14,
   "metadata": {},
   "outputs": [
    {
     "name": "stdout",
     "output_type": "stream",
     "text": [
      " chr [1:47] \"1962\" \"1963\" \"1964\" \"1965\" \"1966\" \"1967\" \"1968\" \"1969\" \"1970\" ...\n"
     ]
    }
   ],
   "source": [
    "str(names(PlayoffTable))"
   ]
  },
  {
   "cell_type": "code",
   "execution_count": 12,
   "metadata": {},
   "outputs": [],
   "source": [
    "baseball$NumCompetitors = PlayoffTable[as.character(baseball$Year)]"
   ]
  },
  {
   "cell_type": "code",
   "execution_count": 13,
   "metadata": {},
   "outputs": [
    {
     "data": {
      "text/plain": [
       "\n",
       "  2   4   8  10 \n",
       " 14  92 128  10 "
      ]
     },
     "metadata": {},
     "output_type": "display_data"
    }
   ],
   "source": [
    "table(baseball$NumCompetitors) "
   ]
  },
  {
   "cell_type": "code",
   "execution_count": 15,
   "metadata": {},
   "outputs": [],
   "source": [
    "baseball$WorldSeries = as.numeric(baseball$RankPlayoffs == 1)"
   ]
  },
  {
   "cell_type": "code",
   "execution_count": 16,
   "metadata": {},
   "outputs": [
    {
     "data": {
      "text/plain": [
       "\n",
       "  0   1 \n",
       "197  47 "
      ]
     },
     "metadata": {},
     "output_type": "display_data"
    }
   ],
   "source": [
    "table(baseball$WorldSeries)"
   ]
  },
  {
   "cell_type": "code",
   "execution_count": 17,
   "metadata": {},
   "outputs": [
    {
     "data": {
      "text/plain": [
       "\n",
       "Call:\n",
       "glm(formula = WorldSeries ~ Year, family = \"binomial\", data = baseball)\n",
       "\n",
       "Deviance Residuals: \n",
       "    Min       1Q   Median       3Q      Max  \n",
       "-1.0297  -0.6797  -0.5435  -0.4648   2.1504  \n",
       "\n",
       "Coefficients:\n",
       "            Estimate Std. Error z value Pr(>|z|)   \n",
       "(Intercept) 72.23602   22.64409    3.19  0.00142 **\n",
       "Year        -0.03700    0.01138   -3.25  0.00115 **\n",
       "---\n",
       "Signif. codes:  0 '***' 0.001 '**' 0.01 '*' 0.05 '.' 0.1 ' ' 1\n",
       "\n",
       "(Dispersion parameter for binomial family taken to be 1)\n",
       "\n",
       "    Null deviance: 239.12  on 243  degrees of freedom\n",
       "Residual deviance: 228.35  on 242  degrees of freedom\n",
       "AIC: 232.35\n",
       "\n",
       "Number of Fisher Scoring iterations: 4\n"
      ]
     },
     "metadata": {},
     "output_type": "display_data"
    }
   ],
   "source": [
    "summary(glm(WorldSeries~Year, data=baseball, family=\"binomial\"))"
   ]
  },
  {
   "cell_type": "code",
   "execution_count": 18,
   "metadata": {},
   "outputs": [],
   "source": [
    "LogModel = glm(WorldSeries ~ Year + RA + RankSeason + NumCompetitors, data=baseball, family=binomial)"
   ]
  },
  {
   "cell_type": "code",
   "execution_count": 19,
   "metadata": {},
   "outputs": [
    {
     "data": {
      "text/plain": [
       "\n",
       "Call:\n",
       "glm(formula = WorldSeries ~ Year + RA + RankSeason + NumCompetitors, \n",
       "    family = binomial, data = baseball)\n",
       "\n",
       "Deviance Residuals: \n",
       "    Min       1Q   Median       3Q      Max  \n",
       "-1.0336  -0.7689  -0.5139  -0.4583   2.2195  \n",
       "\n",
       "Coefficients:\n",
       "                 Estimate Std. Error z value Pr(>|z|)\n",
       "(Intercept)    12.5874376 53.6474210   0.235    0.814\n",
       "Year           -0.0061425  0.0274665  -0.224    0.823\n",
       "RA             -0.0008238  0.0027391  -0.301    0.764\n",
       "RankSeason     -0.0685046  0.1203459  -0.569    0.569\n",
       "NumCompetitors -0.1794264  0.1815933  -0.988    0.323\n",
       "\n",
       "(Dispersion parameter for binomial family taken to be 1)\n",
       "\n",
       "    Null deviance: 239.12  on 243  degrees of freedom\n",
       "Residual deviance: 226.37  on 239  degrees of freedom\n",
       "AIC: 236.37\n",
       "\n",
       "Number of Fisher Scoring iterations: 4\n"
      ]
     },
     "metadata": {},
     "output_type": "display_data"
    }
   ],
   "source": [
    "summary(LogModel)"
   ]
  },
  {
   "cell_type": "code",
   "execution_count": 20,
   "metadata": {},
   "outputs": [
    {
     "data": {
      "text/html": [
       "0.476242162489086"
      ],
      "text/latex": [
       "0.476242162489086"
      ],
      "text/markdown": [
       "0.476242162489086"
      ],
      "text/plain": [
       "[1] 0.4762422"
      ]
     },
     "metadata": {},
     "output_type": "display_data"
    }
   ],
   "source": [
    "cor(baseball$Year, baseball$RA)"
   ]
  },
  {
   "cell_type": "code",
   "execution_count": 22,
   "metadata": {},
   "outputs": [
    {
     "data": {
      "text/html": [
       "<table>\n",
       "<caption>A matrix: 4 × 4 of type dbl</caption>\n",
       "<thead>\n",
       "\t<tr><th></th><th scope=col>Year</th><th scope=col>RA</th><th scope=col>RankSeason</th><th scope=col>NumCompetitors</th></tr>\n",
       "</thead>\n",
       "<tbody>\n",
       "\t<tr><th scope=row>Year</th><td>1.0000000</td><td>0.4762422</td><td>0.3852191</td><td>0.9139548</td></tr>\n",
       "\t<tr><th scope=row>RA</th><td>0.4762422</td><td>1.0000000</td><td>0.3991413</td><td>0.5136769</td></tr>\n",
       "\t<tr><th scope=row>RankSeason</th><td>0.3852191</td><td>0.3991413</td><td>1.0000000</td><td>0.4247393</td></tr>\n",
       "\t<tr><th scope=row>NumCompetitors</th><td>0.9139548</td><td>0.5136769</td><td>0.4247393</td><td>1.0000000</td></tr>\n",
       "</tbody>\n",
       "</table>\n"
      ],
      "text/latex": [
       "A matrix: 4 × 4 of type dbl\n",
       "\\begin{tabular}{r|llll}\n",
       "  & Year & RA & RankSeason & NumCompetitors\\\\\n",
       "\\hline\n",
       "\tYear & 1.0000000 & 0.4762422 & 0.3852191 & 0.9139548\\\\\n",
       "\tRA & 0.4762422 & 1.0000000 & 0.3991413 & 0.5136769\\\\\n",
       "\tRankSeason & 0.3852191 & 0.3991413 & 1.0000000 & 0.4247393\\\\\n",
       "\tNumCompetitors & 0.9139548 & 0.5136769 & 0.4247393 & 1.0000000\\\\\n",
       "\\end{tabular}\n"
      ],
      "text/markdown": [
       "\n",
       "A matrix: 4 × 4 of type dbl\n",
       "\n",
       "| <!--/--> | Year | RA | RankSeason | NumCompetitors |\n",
       "|---|---|---|---|---|\n",
       "| Year | 1.0000000 | 0.4762422 | 0.3852191 | 0.9139548 |\n",
       "| RA | 0.4762422 | 1.0000000 | 0.3991413 | 0.5136769 |\n",
       "| RankSeason | 0.3852191 | 0.3991413 | 1.0000000 | 0.4247393 |\n",
       "| NumCompetitors | 0.9139548 | 0.5136769 | 0.4247393 | 1.0000000 |\n",
       "\n"
      ],
      "text/plain": [
       "               Year      RA        RankSeason NumCompetitors\n",
       "Year           1.0000000 0.4762422 0.3852191  0.9139548     \n",
       "RA             0.4762422 1.0000000 0.3991413  0.5136769     \n",
       "RankSeason     0.3852191 0.3991413 1.0000000  0.4247393     \n",
       "NumCompetitors 0.9139548 0.5136769 0.4247393  1.0000000     "
      ]
     },
     "metadata": {},
     "output_type": "display_data"
    }
   ],
   "source": [
    "cor(baseball[c('Year', 'RA', 'RankSeason', 'NumCompetitors')])"
   ]
  },
  {
   "cell_type": "code",
   "execution_count": 23,
   "metadata": {},
   "outputs": [],
   "source": [
    "Model1 = glm(WorldSeries ~ Year + RA, data=baseball, family=binomial)\n",
    "\n",
    "Model2 = glm(WorldSeries ~ Year + RankSeason, data=baseball, family=binomial)\n",
    "\n",
    "Model3 = glm(WorldSeries ~ Year + NumCompetitors, data=baseball, family=binomial)\n",
    "\n",
    "Model4 = glm(WorldSeries ~ RA + RankSeason, data=baseball, family=binomial)\n",
    "\n",
    "Model5 = glm(WorldSeries ~ RA + NumCompetitors, data=baseball, family=binomial)\n",
    "\n",
    "Model6 = glm(WorldSeries ~ RankSeason + NumCompetitors, data=baseball, family=binomial)"
   ]
  },
  {
   "cell_type": "code",
   "execution_count": null,
   "metadata": {},
   "outputs": [],
   "source": []
  }
 ],
 "metadata": {
  "kernelspec": {
   "display_name": "R",
   "language": "R",
   "name": "ir"
  },
  "language_info": {
   "codemirror_mode": "r",
   "file_extension": ".r",
   "mimetype": "text/x-r-source",
   "name": "R",
   "pygments_lexer": "r",
   "version": "3.6.1"
  }
 },
 "nbformat": 4,
 "nbformat_minor": 2
}
